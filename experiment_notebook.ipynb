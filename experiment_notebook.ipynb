{
 "cells": [
  {
   "cell_type": "markdown",
   "metadata": {},
   "source": [
    "***\n",
    "### __Darius Petermann__ <br>\n",
    "Email: dariusarthur.petermann01@estudiant.upf.edu <br>\n",
    "Project Git Page: https://github.com/darius522/satb-voice-estimate.git\n",
    "#### Companion Code for the Paper: <br>  \n",
    "*__\"Source Number Estimation for monoaural SATB choral recordings\"__*\n",
    "***\n",
    "\n",
    "How this notebook works:\n",
    "\n",
    "This notebook is divided into three main sections:\n",
    "* 1. [Data Handling Methodology](#part1): First we go through the generic set-up steps such as data handling, formatting, pre-processing:\n",
    "    1. [Dataset Download](#part11):\n",
    "    2. [Storing our Data in a Convenient Format](#part12)\n",
    "    3. [Defining the Generator Function](#part13)\n",
    "    4. [Computing Time-Domain Snippets](#part14)\n",
    "* 2. [Baseline Computation](#part2): MFC's: We then dive into the first part of our experiment, which is the computation of our baseline using MFC's:\n",
    "    1. [Feature Extraction](#part21)\n",
    "    2. [Data Plotting](#part22)\n",
    "    3. [Data Formatting](#part23)\n",
    "    4. [Model Training / Testing](#part24)\n",
    "    5. [Results](#part25)\n",
    "* 3. [Deep Salience Approach](#part3): In the second part of our experiment, we use the deep salience framework (cited later), in order to improve upon our initial baseline:\n",
    "    1. [Importing Required Python File - Defining Function Parameters](#part31)\n",
    "    2. [Predicting Salience](#part32)\n",
    "    3. [Results](#part33)"
   ]
  },
  {
   "cell_type": "code",
   "execution_count": 1,
   "metadata": {},
   "outputs": [],
   "source": [
    "import os\n",
    "import matplotlib.pyplot as plt\n",
    "import numpy as np"
   ]
  },
  {
   "cell_type": "code",
   "execution_count": 2,
   "metadata": {},
   "outputs": [],
   "source": [
    "# We opt to define all the global configuration settings through this dict\n",
    "config = {\"resampling_fs\" : 22050, #expected resampling rate on HDF5 file creation\n",
    "          \"dst_path\":\"./choral_dst\", # User Dataset path (if None, the default one will be used)\n",
    "          \"hdf5_filepath\":\"./choral_dst.hdf5\",\n",
    "          \"batch_size_train\": 8192,\n",
    "          \"batch_size_test\": 256,\n",
    "          \"num_frames\": 22050 # 8 sec @ 22050Hz\n",
    "         }\n",
    "\n",
    "if not os.path.isdir('./debug'):\n",
    "    os.mkdir('./debug')"
   ]
  },
  {
   "cell_type": "markdown",
   "metadata": {},
   "source": [
    "<a id='part1'></a>\n",
    "<h1><center>Data Handling Methodology</center></h1>\n",
    "\n",
    "For the first step of this task, we will work from the __Choral Singing Dataset__, which contains three choir songs composed of 4 groups of 4 singers (16 parts per song), for a total of 48 stems. The dataset can be downloaded from Zenodo at the following:\n",
    "\n",
    "https://zenodo.org/record/2649950#.XlJRNy2ZPRY\n",
    "\n",
    "If you happen to already have the dataset locally, please define it's local path through the ***dst_path*** variable. Otherwise, the cell below will take care of downloading it for you:\n",
    "***\n",
    "<a id='part11'></a>\n",
    "### 1. Dataset Download:"
   ]
  },
  {
   "cell_type": "code",
   "execution_count": 3,
   "metadata": {},
   "outputs": [
    {
     "name": "stdout",
     "output_type": "stream",
     "text": [
      "User Path Defined. Dataset Expected to be Found at the Following:\n",
      "./choral_dst\n"
     ]
    }
   ],
   "source": [
    "#This cell downloads the Mridangam Stroke Dataset in its entirety\n",
    "import urllib.request\n",
    "import zipfile\n",
    "import os, sys,shutil\n",
    "\n",
    "#Link for the dataset. If you already have the dataset locally, define its location through the config dict above \n",
    "url = 'https://zenodo.org/record/2649950/files/ChoralSingingDataset.zip'\n",
    "\n",
    "if config[\"dst_path\"] == None:\n",
    "    main_data_dir = './choral_dst'\n",
    "    if not os.path.exists(main_data_dir): #creating the directory if not exist\n",
    "        os.mkdir(main_data_dir)\n",
    "    print('Downloading Choral Singing Dataset Dataset...')\n",
    "    foldername = url.split('/')[-1]\n",
    "    urllib.request.urlretrieve(url,foldername)\n",
    "    #Unzipping to a specific folder\n",
    "    zip_ref = zipfile.ZipFile(foldername, 'r')\n",
    "    zip_ref.extractall(main_data_dir)\n",
    "    zip_ref.close()\n",
    "    os.remove(foldername)#Removing the zip file\n",
    "    print('Data downloaded and unzipped to: ',main_data_dir)\n",
    "else:\n",
    "    print('User Path Defined. Dataset Expected to be Found at the Following:\\n'+config[\"dst_path\"])\n",
    " "
   ]
  },
  {
   "cell_type": "markdown",
   "metadata": {},
   "source": [
    "<a id='part12'></a>\n",
    "***\n",
    "### 2. Storing our Data in a Convenient Format\n",
    "\n",
    "For the sake of simplicity and clarity, we will store our song stems in a **HDF5 file**, which will help us to manage the later steps a bit more easily. This hierarchical file format will allow us to store our data in an intuitive way as follow:\n",
    "\n",
    "**[HDF5_File] -> [Set] -> [Song] -> [Part]**\n",
    "\n",
    "Since our dataset is of *very* limited size, we will break it down as follow:\n",
    "\n",
    "| Set   | Stems | Songs |\n",
    "| :---:   | :---: | :---: |\n",
    "| __Train__ |    24   |    A, B   |\n",
    "| __Valid__ |   8    |   A, B    |\n",
    "| __Test__  |16| C |\n",
    "\n",
    "**Note:** By default, the Choral Singing Dataset follow the following naming convention:\n",
    "\n",
    "*DatasetName_SongAcronym_PartName_PartNumber.wav*"
   ]
  },
  {
   "cell_type": "code",
   "execution_count": 9,
   "metadata": {},
   "outputs": [
    {
     "name": "stdout",
     "output_type": "stream",
     "text": [
      "HDF5 Already Exists. File Expected to be Found at the Following:\n",
      "./choral_dst.hdf5\n"
     ]
    }
   ],
   "source": [
    "import h5py\n",
    "import librosa\n",
    "import soundfile\n",
    "import glob\n",
    "import random\n",
    "from tqdm import notebook\n",
    "from time import sleep\n",
    "from pathlib import Path\n",
    "\n",
    "# First check if HDF5 already exists:\n",
    "hdf5_file = Path(config['hdf5_filepath'])\n",
    "if not hdf5_file.is_file():\n",
    "    tracks = dict()\n",
    "    resampling_fs = config['resampling_fs']\n",
    "    dst_path = './choral_dst' if (config['dst_path'] == None) else config['dst_path']\n",
    "\n",
    "    # Get all the stem files\n",
    "    dst_stems = glob.glob(dst_path+\"/*.wav\",recursive=False)\n",
    "    # Extract only songs from name\n",
    "    songs = set([os.path.splitext(os.path.basename(i))[0].split('_')[1] for i in dst_stems])\n",
    "    # Take 2/3 of songs for train/valid\n",
    "    train_val_songs = random.sample(songs, int(np.ceil(0.666*len(songs))))\n",
    "    # Take the rest as test set\n",
    "    test_song = list(set(songs) - set(train_val_songs))\n",
    "    test_idx = [int(i) for i, track in enumerate(dst_stems) if [True for song in test_song if str('_'+song+'_') in track]]\n",
    "    # Take one random group of singer per song for each song as validation set\n",
    "    rand_part = random.randint(1,4)\n",
    "    val_idx   = [int(i) for i, track in enumerate(dst_stems) if [True for song in train_val_songs if ((str('_'+song+'_') in track) and (str('_'+str(rand_part)+'.wav')) in track)]]\n",
    "    # Deduce the train set from valid / test set\n",
    "    train_idx = list(set(range(len(dst_stems))) -  (set(val_idx + test_idx)))\n",
    "\n",
    "    # tracks['train'] = np.take(dst_stems, train_idx)\n",
    "    tracks['train'] = np.take(dst_stems, train_idx)\n",
    "    tracks['valid'] = np.take(dst_stems, val_idx)\n",
    "    tracks['test'] = np.take(dst_stems, test_idx)\n",
    "\n",
    "    print('Ready to create HDF5')\n",
    "\n",
    "    h5file = h5py.File(config[\"hdf5_filepath\"], \"w\")\n",
    "\n",
    "    # Write stems to hdf5 file for train/valid/test partitions\n",
    "    for curr_partition in [\"train\", \"valid\", \"test\"]:\n",
    "\n",
    "        print(\"Writing \" + curr_partition + \" partition with \"+str(len(tracks[curr_partition]))+\" files...\")\n",
    "\n",
    "        stem_list = tracks[curr_partition]\n",
    "        \n",
    "        print(stem_list)\n",
    "\n",
    "        # Create group for set if needed\n",
    "        if not str(curr_partition) in h5file:\n",
    "            set_grp  = h5file.create_group(curr_partition)\n",
    "\n",
    "        sleep(1)\n",
    "\n",
    "        for track in notebook.tqdm(stem_list):\n",
    "\n",
    "            filename = os.path.splitext(os.path.basename(track))[0].split('_')\n",
    "\n",
    "            song = filename[1]\n",
    "            part = ''.join(filename[2:4])\n",
    "\n",
    "            # Create group for the Song if needed\n",
    "            if not str(curr_partition+'/'+song) in h5file:\n",
    "                song_grp  = set_grp.create_group(song)\n",
    "\n",
    "            # Create group for the Part if needed\n",
    "            if not str(curr_partition+'/'+song+'/'+part) in h5file:\n",
    "                part_grp = h5file[str(curr_partition+'/'+song)]\n",
    "                subgrp  = part_grp.create_group(part)\n",
    "\n",
    "            # Once part groups / song subgroups are created, store file\n",
    "            audio, s = librosa.load(track, sr=resampling_fs)\n",
    "            subgrp = h5file[str(curr_partition+'/'+song+'/'+part)]\n",
    "            subgrp.create_dataset(\"raw_wav\",data=audio)\n",
    "\n",
    "    print('Done Creating HDF5 at path: '+config['hdf5_filepath'])\n",
    "    h5file.close()\n",
    "else:\n",
    "    print('HDF5 Already Exists. File Expected to be Found at the Following:\\n'+config[\"hdf5_filepath\"])"
   ]
  },
  {
   "cell_type": "markdown",
   "metadata": {},
   "source": [
    "<a id='part13'></a>\n",
    "***\n",
    "### 3. Defining the Generator Function:\n",
    "\n",
    "Instead of computing features on the entirety of each of these songs, we will create many song snippets (or frames), which will depict different possible musical settings (SAT, ATB, SB, etc.) out of the songs. This will allow us to cover all possible singer permutations on a per-frame basis, without having to compute and feed to the model substantial chunk of audio.\n",
    "\n",
    "The next step would be to define the function that will generate these song frames for us. \n",
    "\n",
    "**Note:** This function will yield the song segments but won't render them to disk. We can proceed by computing everything on the fly and save ourselves some local memory space."
   ]
  },
  {
   "cell_type": "code",
   "execution_count": 5,
   "metadata": {},
   "outputs": [],
   "source": [
    "def batchGenerator(hdf5_filepath, batch_size, num_frames, partition='train', debug=False):\n",
    "    \n",
    "    dataset   = h5py.File(hdf5_filepath, \"r\")\n",
    "    itCounter = 0\n",
    "\n",
    "    itCounter = itCounter + 1\n",
    "    \n",
    "    # Choose random song and retrieve all available part for it\n",
    "    randsong = random.choice(list(dataset[partition].keys())) # Get random song from dataset keys\n",
    "    sources  = list(dataset[partition][randsong].keys())      # Get all available sources for song\n",
    "    \n",
    "    # Compute available parts per group\n",
    "    part_per_group = dict({'soprano':None,'alto':None,'tenor':None,'bass':None})\n",
    "    for group in part_per_group.keys():\n",
    "        parts = [source[-1] for source in sources if group in source]\n",
    "        part_per_group[group] = parts\n",
    "\n",
    "    # Init the start/end values of song snippet\n",
    "    startspl = 0\n",
    "    endspl   = 0\n",
    "\n",
    "    # Preping the output shape of the generator\n",
    "    out_shapes = {'mix':np.zeros((batch_size, num_frames)),'num_sing':np.zeros((batch_size),dtype=int)}\n",
    "\n",
    "    # Will create batch_size x mixes of unique singers permutations\n",
    "    for i in range(batch_size):\n",
    "\n",
    "        randsources = random.sample(part_per_group.keys(), random.randint(1,4)) # Randomize source pick\n",
    "\n",
    "        # Get Start and End samples. Pick random part to calculate start/end spl\n",
    "        randpart = random.choice(sources)\n",
    "        startspl = random.randint(0,len(dataset[partition][randsong][randpart]['raw_wav'])-num_frames) # This assume that all stems are the same length\n",
    "        endspl   = startspl+num_frames\n",
    "\n",
    "        # Get Random Sources with part number: \n",
    "        randsources_with_part = [\"{}{}\".format(a, random.choice(part_per_group[a])) for a in randsources] # Concatenate strings for part name\n",
    "        # Retrieve the chunks and store them in output shapes                                         \n",
    "        for source in randsources_with_part:\n",
    "\n",
    "            source_chunk = dataset[partition][randsong][source]['raw_wav'][startspl:endspl] # Retrieve part's chunk\n",
    "            source_chunk = np.nan_to_num(source_chunk)\n",
    "            if np.max(np.abs(source_chunk)) > 0.0:\n",
    "                source_chunk = source_chunk / np.max(np.abs(source_chunk))\n",
    "            out_shapes['mix'][i] = np.add(out_shapes['mix'][i],source_chunk)            # Add the chunk to the mix\n",
    "\n",
    "        # Scale down the mix based off number of sources\n",
    "        scaler = len(randsources_with_part)\n",
    "        out_shapes['mix'][i] = (out_shapes['mix'][i]/scaler)\n",
    "        out_shapes['num_sing'][i] = len(randsources_with_part)\n",
    "\n",
    "    # if debug == True, pick one random mix from batch and synthesize it\n",
    "    if debug==True:\n",
    "\n",
    "        rand_pick = random.randint(0,batch_size-1)\n",
    "        debug_dir = './debug/it#'+str(itCounter)+'_batchpick#'+str(rand_pick)\n",
    "        if not os.path.isdir(debug_dir):\n",
    "            os.mkdir(debug_dir)\n",
    "        soundfile.write(debug_dir+'/'+'mix_'+str(out_shapes['num_sing'][rand_pick])+'_singers_'+'.wav', out_shapes['mix'][rand_pick], config['resampling_fs'], 'PCM_24')\n",
    "            \n",
    "    \n",
    "    return (out_shapes['mix'], out_shapes['num_sing'])"
   ]
  },
  {
   "cell_type": "markdown",
   "metadata": {},
   "source": [
    "As you can see, the generator function returns a dictionary of shape:<br>\n",
    "```out_shapes = {'mix':np.zeros((batch_size, num_frames)),'num_sing':np.zeros((batch_size))}``` <br><br>where:\n",
    "* the key ```'mix'``` holds ```<batch_size>``` number of snippet of size ```<num_frames>```\n",
    "* the key ```'num_sing'``` holds the ground truth respective to each of these mixes\n",
    "\n",
    "<br>The purpose of the generator function is to strictly provide the time-domain snippets. For the pre-processing steps related to frequency-domain conversion and more, see the next section below:"
   ]
  },
  {
   "cell_type": "markdown",
   "metadata": {},
   "source": [
    "<a id='part14'></a>\n",
    "***\n",
    "### 4. Computing Time-Domain Snippets"
   ]
  },
  {
   "cell_type": "code",
   "execution_count": 6,
   "metadata": {},
   "outputs": [
    {
     "name": "stdout",
     "output_type": "stream",
     "text": [
      "Audio Data for Training Loaded with Shape:\n",
      "(8192, 22050)\n",
      "Ground Truth for Training Loaded with Shape:\n",
      "(8192,)\n",
      "Audio Data for Valid Loaded with Shape:\n",
      "(2457, 22050)\n",
      "Ground Truth for Valid Loaded with Shape:\n",
      "(2457,)\n",
      "Audio Data for Testing Loaded with Shape:\n",
      "(256, 22050)\n",
      "Ground Truth for Testing Loaded with Shape:\n",
      "(256,)\n"
     ]
    }
   ],
   "source": [
    "num_frames = config['num_frames'] # size of song snippets\n",
    "\n",
    "audio_data_train, y_train = batchGenerator(config['hdf5_filepath'], config['batch_size_train'], num_frames, partition='train', debug=False)\n",
    "print('Audio Data for Training Loaded with Shape:\\n'+ str(np.shape(audio_data_train)))\n",
    "print('Ground Truth for Training Loaded with Shape:\\n'+ str(np.shape(y_train)))\n",
    "\n",
    "audio_data_valid, y_valid = batchGenerator(config['hdf5_filepath'], int(config['batch_size_train']*0.3), num_frames, partition='valid', debug=False)\n",
    "print('Audio Data for Valid Loaded with Shape:\\n'+ str(np.shape(audio_data_valid)))\n",
    "print('Ground Truth for Valid Loaded with Shape:\\n'+ str(np.shape(y_valid)))\n",
    "\n",
    "audio_data_test, y_test = batchGenerator(config['hdf5_filepath'], config['batch_size_test'], num_frames, partition='test', debug=False)\n",
    "print('Audio Data for Testing Loaded with Shape:\\n'+ str(np.shape(audio_data_test)))\n",
    "print('Ground Truth for Testing Loaded with Shape:\\n'+ str(np.shape(y_test)))"
   ]
  },
  {
   "cell_type": "markdown",
   "metadata": {},
   "source": [
    "Our __audio data__ is loaded into 2D numpy arrays called:<br> \n",
    "* ```audio_data_train```, ```audio_data_valid```, ```audio_data_test```<br>\n",
    "\n",
    "Our __ground truth__ is loaded into 1D numpy arrays respectively named: <br>\n",
    "* ```y_train```, ```y_valid```, ```y_test```. <br>\n",
    "\n",
    "For what it is worth, let's plot a few audio snippets labeled with their respective ground truth:"
   ]
  },
  {
   "cell_type": "code",
   "execution_count": null,
   "metadata": {},
   "outputs": [],
   "source": [
    "import IPython.display as ipd\n",
    "\n",
    "plt.figure(1, figsize=(10,100))\n",
    "plt.subplots(4,1,figsize=(20,30))\n",
    "plt.subplots_adjust(hspace=0.5)\n",
    "\n",
    "for i in range(4):\n",
    "    \n",
    "    rand_snippet = random.randint(0,np.shape(audio_data_train)[0]-1) # Pick random snippet from audio_data\n",
    "    x = audio_data_train[rand_snippet]\n",
    "    num_singer = y_train[rand_snippet]\n",
    "    print(\"Singers: \"+str(num_singer))\n",
    "    ipd.display(ipd.Audio(data=x, rate=config['resampling_fs']))\n",
    "    plt.subplot(4, 1, (i+1))\n",
    "    plt.plot(x)\n",
    "    plt.title(r\"$\\bf{\"\"Singers: \"+str(num_singer)+ \"}$\")"
   ]
  },
  {
   "cell_type": "markdown",
   "metadata": {},
   "source": [
    "<a id='part2'></a>\n",
    "***\n",
    "<h1><center>Baseline Computation: MFC's</center></h1>\n",
    "\n",
    "The first step of our experiment entails training a deep neural network model computing the __mel-frequency cepstrum coefficients of a spectrum__, extracted using the audio analysis library **Essentia**. \n",
    "\n",
    "***\n",
    "<a id='part21'></a>\n",
    "### 1. Feature Extraction\n",
    "\n",
    "Now is the time to actually extract the features from all the audio snippets we've just computed. We will exploit the fact that each singer in a SATB recording settings each have their respective singing range (that is to say, there is still a fair amount of harmonic overlap). <br>A first naive approach, would be to compute the __MFCC coefficients__ in the hope that this feature would accurately depict the recordings' frequency range in respect to the number of singers singing. Moreover, this feature seems like a good fit for our task as the signals we are dealing with only entail singing voice."
   ]
  },
  {
   "cell_type": "code",
   "execution_count": 18,
   "metadata": {},
   "outputs": [],
   "source": [
    "def createDataForPartition(audio):\n",
    "    \n",
    "    # Defining some important parameters for the MFCC algorithm:\n",
    "    num_coefs       = 13\n",
    "    num_bands       = 64\n",
    "    high_freq_bound = 11000\n",
    "    norm_type       = 'unit_sum'  #(string ∈ {unit_sum, unit_tri, unit_max}, default = unit_sum)\n",
    "    \n",
    "    # Instantiating Essentia algorhitms:\n",
    "    w        = Windowing(type = 'hann')\n",
    "    spectrum = Spectrum(size=4096)\n",
    "    logNorm  = UnaryOperator(type='log')\n",
    "    mfcc     = MFCC(numberCoefficients=num_coefs,\n",
    "                numberBands=num_bands,\n",
    "                normalize = norm_type,\n",
    "                inputSize=4096,\n",
    "                sampleRate=config[\"resampling_fs\"])\n",
    "\n",
    "    melbands_log = np.empty([np.shape(audio)[0],int((config['num_frames']/512)),64])\n",
    "\n",
    "    sleep(1.0)\n",
    "\n",
    "    # Compute MFCCS for all snippets: shape <snippet, frames, coefficients>\n",
    "    for idx in notebook.tqdm(range(np.shape(audio)[0])):\n",
    "        \n",
    "        x = audio[idx]\n",
    "        \n",
    "        mel_bands_tmp = []\n",
    "        \n",
    "        for frame in FrameGenerator(essentia.array(x), frameSize=1024, hopSize=512, startFromZero=True):\n",
    "            mfcc_bands, _ = mfcc(spectrum(w(frame)))\n",
    "            mel_bands_tmp.append(logNorm(mfcc_bands))\n",
    "\n",
    "        #Calculate average of MFCs for all frames and store\n",
    "        melbands_log[idx,:,:] = mel_bands_tmp\n",
    "        \n",
    "    return melbands_log"
   ]
  },
  {
   "cell_type": "markdown",
   "metadata": {},
   "source": [
    "<a id='part22'></a>\n",
    "***\n",
    "### 2. Data Plotting\n",
    "Once we compute MFCCs for all audio snippet, let's plot some of them to make sure they look as expected:"
   ]
  },
  {
   "cell_type": "code",
   "execution_count": 19,
   "metadata": {
    "scrolled": true
   },
   "outputs": [
    {
     "name": "stdout",
     "output_type": "stream",
     "text": [
      "Computing MFCS for training set:\n"
     ]
    },
    {
     "data": {
      "application/vnd.jupyter.widget-view+json": {
       "model_id": "fea7a8591a354c4e89a29518f4e94d07",
       "version_major": 2,
       "version_minor": 0
      },
      "text/plain": [
       "HBox(children=(IntProgress(value=0, max=8192), HTML(value='')))"
      ]
     },
     "metadata": {},
     "output_type": "display_data"
    },
    {
     "name": "stdout",
     "output_type": "stream",
     "text": [
      "\n",
      "Computing MFCS for valid set:\n"
     ]
    },
    {
     "data": {
      "application/vnd.jupyter.widget-view+json": {
       "model_id": "edd45396fbc14982b86bdba6f3f03416",
       "version_major": 2,
       "version_minor": 0
      },
      "text/plain": [
       "HBox(children=(IntProgress(value=0, max=2457), HTML(value='')))"
      ]
     },
     "metadata": {},
     "output_type": "display_data"
    },
    {
     "name": "stdout",
     "output_type": "stream",
     "text": [
      "\n",
      "Computing MFCS for test set:\n"
     ]
    },
    {
     "data": {
      "application/vnd.jupyter.widget-view+json": {
       "model_id": "db0736d7be1f46c2a59c1e2bf93499dc",
       "version_major": 2,
       "version_minor": 0
      },
      "text/plain": [
       "HBox(children=(IntProgress(value=0, max=256), HTML(value='')))"
      ]
     },
     "metadata": {},
     "output_type": "display_data"
    },
    {
     "name": "stdout",
     "output_type": "stream",
     "text": [
      "\n"
     ]
    },
    {
     "data": {
      "text/plain": [
       "<Figure size 7200x7200 with 0 Axes>"
      ]
     },
     "metadata": {},
     "output_type": "display_data"
    },
    {
     "data": {
      "image/png": "[encoded data removed]",
      "text/plain": [
       "<Figure size 1440x1440 with 16 Axes>"
      ]
     },
     "metadata": {
      "needs_background": "light"
     },
     "output_type": "display_data"
    }
   ],
   "source": [
    "from essentia.standard import *\n",
    "\n",
    "print('Computing MFCS for training set:')\n",
    "X_train = createDataForPartition(audio_data_train)\n",
    "print('Computing MFCS for valid set:')\n",
    "X_valid = createDataForPartition(audio_data_valid)\n",
    "print('Computing MFCS for test set:')\n",
    "X_test  = createDataForPartition(audio_data_test)\n",
    "\n",
    "plt.figure(1, figsize=(100,100))\n",
    "plt.subplots(4,4,figsize=(20,20))\n",
    "plt.subplots_adjust(hspace=0.5)\n",
    "\n",
    "for i in range(16):\n",
    "    \n",
    "    rand_snippet = random.randint(0,np.shape(X_train)[0]-1) # Pick random snippet from audio_data\n",
    "    mfcc = X_train[rand_snippet].T\n",
    "    num_singer = int(y_train[rand_snippet])\n",
    "\n",
    "    plt.subplot(4, 4, (i+1))\n",
    "    plt.imshow(mfcc, aspect='auto', origin='lower', interpolation='none')\n",
    "    plt.title(r\"$\\bf{\"\"Singers: \"+str(num_singer)+ \"}$\")"
   ]
  },
  {
   "cell_type": "markdown",
   "metadata": {},
   "source": [
    "<a id='part23'></a>\n",
    "***\n",
    "### 3. Data Formatting"
   ]
  },
  {
   "cell_type": "code",
   "execution_count": 20,
   "metadata": {},
   "outputs": [
    {
     "name": "stdout",
     "output_type": "stream",
     "text": [
      "Data for Training with Shape:\n",
      "(8192, 64)\n",
      "Ground Truth for Training Loaded with Shape:\n",
      "(8192, 4)\n",
      "Data for Training with Shape:\n",
      "(2457, 64)\n",
      "Ground Truth for Training Loaded with Shape:\n",
      "(2457, 4)\n",
      "Data for Testing with Shape:\n",
      "(256, 64)\n",
      "Ground Truth for Testing Loaded with Shape:\n",
      "(256, 4)\n"
     ]
    }
   ],
   "source": [
    "import seaborn as sns\n",
    "import pandas as pd\n",
    "from sklearn import preprocessing\n",
    "from sklearn.preprocessing import OneHotEncoder\n",
    "\n",
    "X_train = np.mean(X_train,axis=1)\n",
    "X_valid = np.mean(X_valid,axis=1)\n",
    "X_test = np.mean(X_test,axis=1)\n",
    "\n",
    "onehot_encoder = OneHotEncoder(sparse=False)\n",
    "y_train_onehot = onehot_encoder.fit_transform(y_train.reshape(len(y_train), 1))\n",
    "y_valid_onehot = onehot_encoder.fit_transform(y_valid.reshape(len(y_valid), 1))\n",
    "y_test_onehot = onehot_encoder.fit_transform(y_test.reshape(len(y_test), 1))\n",
    "\n",
    "# Finally, we end up with these shapes:\n",
    "print('Data for Training with Shape:\\n'+ str(np.shape(X_train)))\n",
    "print('Ground Truth for Training Loaded with Shape:\\n'+ str(np.shape(y_train_onehot)))\n",
    "print('Data for Training with Shape:\\n'+ str(np.shape(X_valid)))\n",
    "print('Ground Truth for Training Loaded with Shape:\\n'+ str(np.shape(y_valid_onehot)))\n",
    "print('Data for Testing with Shape:\\n'+ str(np.shape(X_test)))\n",
    "print('Ground Truth for Testing Loaded with Shape:\\n'+ str(np.shape(y_test_onehot)))"
   ]
  },
  {
   "cell_type": "markdown",
   "metadata": {},
   "source": [
    "<a id='part24'></a>\n",
    "***\n",
    "### 4. Model Training / Testing"
   ]
  },
  {
   "cell_type": "code",
   "execution_count": 24,
   "metadata": {},
   "outputs": [],
   "source": [
    "from keras.models import Sequential\n",
    "from keras import layers\n",
    "\n",
    "def compose_model(num_features):\n",
    "    \n",
    "    model = Sequential()\n",
    "\n",
    "    # Input layer \n",
    "    model.add(layers.BatchNormalization(name='InputLayer', input_shape=(num_features,)))\n",
    "    \n",
    "    # 1. hidden layer\n",
    "    model.add(layers.Dense(name='HiddenLayer_1', units = 20))\n",
    "    model.add(layers.BatchNormalization())\n",
    "    model.add(layers.Activation('tanh'))\n",
    "    model.add(layers.Dropout(0.3))\n",
    "\n",
    "    # 2. hidden layyer\n",
    "    model.add(layers.Dense(name='HiddenLayer_2', units = 40))\n",
    "    model.add(layers.BatchNormalization())\n",
    "    model.add(layers.Activation('relu'))\n",
    "    \n",
    "    # 3. hidden layyer\n",
    "    model.add(layers.Dense(name='HiddenLayer_3', units = 60))\n",
    "    model.add(layers.BatchNormalization())\n",
    "    model.add(layers.Activation('relu'))\n",
    "    model.add(layers.Dropout(0.3))\n",
    "\n",
    "\n",
    "    # Output layer\n",
    "    model.add(layers.Dense(name='Output_layer', units = 4))\n",
    "    model.add(layers.Activation('sigmoid'))\n",
    "    \n",
    "    return model\n",
    "\n",
    "model = compose_model(X_train.shape[1])"
   ]
  },
  {
   "cell_type": "code",
   "execution_count": 25,
   "metadata": {},
   "outputs": [
    {
     "name": "stdout",
     "output_type": "stream",
     "text": [
      "Model: \"sequential_3\"\n",
      "_________________________________________________________________\n",
      "Layer (type)                 Output Shape              Param #   \n",
      "=================================================================\n",
      "InputLayer (BatchNormalizati (None, 64)                256       \n",
      "_________________________________________________________________\n",
      "HiddenLayer_1 (Dense)        (None, 20)                1300      \n",
      "_________________________________________________________________\n",
      "batch_normalization_7 (Batch (None, 20)                80        \n",
      "_________________________________________________________________\n",
      "activation_9 (Activation)    (None, 20)                0         \n",
      "_________________________________________________________________\n",
      "dropout_5 (Dropout)          (None, 20)                0         \n",
      "_________________________________________________________________\n",
      "HiddenLayer_2 (Dense)        (None, 40)                840       \n",
      "_________________________________________________________________\n",
      "batch_normalization_8 (Batch (None, 40)                160       \n",
      "_________________________________________________________________\n",
      "activation_10 (Activation)   (None, 40)                0         \n",
      "_________________________________________________________________\n",
      "HiddenLayer_3 (Dense)        (None, 60)                2460      \n",
      "_________________________________________________________________\n",
      "batch_normalization_9 (Batch (None, 60)                240       \n",
      "_________________________________________________________________\n",
      "activation_11 (Activation)   (None, 60)                0         \n",
      "_________________________________________________________________\n",
      "dropout_6 (Dropout)          (None, 60)                0         \n",
      "_________________________________________________________________\n",
      "Output_layer (Dense)         (None, 4)                 244       \n",
      "_________________________________________________________________\n",
      "activation_12 (Activation)   (None, 4)                 0         \n",
      "=================================================================\n",
      "Total params: 5,580\n",
      "Trainable params: 5,212\n",
      "Non-trainable params: 368\n",
      "_________________________________________________________________\n",
      "Train on 8192 samples, validate on 2457 samples\n",
      "Epoch 1/100\n",
      "8192/8192 [==============================] - 2s 189us/step - loss: 1.3322 - accuracy: 0.3440 - val_loss: 1.2547 - val_accuracy: 0.4416\n",
      "Epoch 2/100\n",
      "8192/8192 [==============================] - 1s 90us/step - loss: 1.1509 - accuracy: 0.4343 - val_loss: 1.1462 - val_accuracy: 0.4819\n",
      "Epoch 3/100\n",
      "8192/8192 [==============================] - 1s 74us/step - loss: 1.0557 - accuracy: 0.4883 - val_loss: 1.1463 - val_accuracy: 0.4925\n",
      "Epoch 4/100\n",
      "8192/8192 [==============================] - 1s 89us/step - loss: 0.9982 - accuracy: 0.5199 - val_loss: 1.1956 - val_accuracy: 0.4567\n",
      "Epoch 5/100\n",
      "8192/8192 [==============================] - 1s 74us/step - loss: 0.9774 - accuracy: 0.5413 - val_loss: 1.3208 - val_accuracy: 0.3862\n",
      "Epoch 6/100\n",
      "8192/8192 [==============================] - 1s 72us/step - loss: 0.9458 - accuracy: 0.5569 - val_loss: 1.2939 - val_accuracy: 0.3895\n",
      "Epoch 7/100\n",
      "8192/8192 [==============================] - 1s 74us/step - loss: 0.9201 - accuracy: 0.5638 - val_loss: 1.3068 - val_accuracy: 0.3700\n",
      "Epoch 8/100\n",
      "8192/8192 [==============================] - 1s 74us/step - loss: 0.8996 - accuracy: 0.5779 - val_loss: 1.2776 - val_accuracy: 0.3887\n",
      "Epoch 9/100\n",
      "8192/8192 [==============================] - 1s 73us/step - loss: 0.8812 - accuracy: 0.5931 - val_loss: 1.4577 - val_accuracy: 0.3053\n",
      "Epoch 10/100\n",
      "8192/8192 [==============================] - 1s 73us/step - loss: 0.8801 - accuracy: 0.5898 - val_loss: 1.3911 - val_accuracy: 0.3512\n",
      "Epoch 11/100\n",
      "8192/8192 [==============================] - 1s 72us/step - loss: 0.8539 - accuracy: 0.6101 - val_loss: 1.4518 - val_accuracy: 0.3293\n",
      "Epoch 12/100\n",
      "8192/8192 [==============================] - 1s 73us/step - loss: 0.8342 - accuracy: 0.6165 - val_loss: 1.5642 - val_accuracy: 0.3081\n",
      "Epoch 13/100\n",
      "8192/8192 [==============================] - 1s 94us/step - loss: 0.8402 - accuracy: 0.6190 - val_loss: 1.5141 - val_accuracy: 0.3219\n",
      "Epoch 14/100\n",
      "8192/8192 [==============================] - 1s 74us/step - loss: 0.8301 - accuracy: 0.6169 - val_loss: 1.5779 - val_accuracy: 0.3126\n",
      "Epoch 15/100\n",
      "8192/8192 [==============================] - 1s 94us/step - loss: 0.8179 - accuracy: 0.6316 - val_loss: 1.4859 - val_accuracy: 0.3179\n",
      "Epoch 16/100\n",
      "8192/8192 [==============================] - 1s 86us/step - loss: 0.8151 - accuracy: 0.6237 - val_loss: 1.5143 - val_accuracy: 0.3089\n",
      "Epoch 17/100\n",
      "8192/8192 [==============================] - 1s 80us/step - loss: 0.8166 - accuracy: 0.6282 - val_loss: 1.3820 - val_accuracy: 0.3496\n",
      "Epoch 18/100\n",
      "8192/8192 [==============================] - 1s 74us/step - loss: 0.8069 - accuracy: 0.6305 - val_loss: 1.6263 - val_accuracy: 0.3044\n",
      "Epoch 19/100\n",
      "8192/8192 [==============================] - 1s 80us/step - loss: 0.7955 - accuracy: 0.6381 - val_loss: 1.5498 - val_accuracy: 0.3008\n",
      "Epoch 20/100\n",
      "8192/8192 [==============================] - 1s 76us/step - loss: 0.8002 - accuracy: 0.6359 - val_loss: 1.5207 - val_accuracy: 0.3309\n",
      "Epoch 21/100\n",
      "8192/8192 [==============================] - 1s 76us/step - loss: 0.7958 - accuracy: 0.6353 - val_loss: 1.5307 - val_accuracy: 0.3032\n",
      "Epoch 22/100\n",
      "8192/8192 [==============================] - 1s 73us/step - loss: 0.7863 - accuracy: 0.6356 - val_loss: 1.3230 - val_accuracy: 0.3679\n",
      "Epoch 23/100\n",
      "8192/8192 [==============================] - 1s 73us/step - loss: 0.7861 - accuracy: 0.6442 - val_loss: 1.5100 - val_accuracy: 0.3122\n",
      "Epoch 24/100\n",
      "8192/8192 [==============================] - 1s 76us/step - loss: 0.7754 - accuracy: 0.6486 - val_loss: 1.5706 - val_accuracy: 0.3109\n",
      "Epoch 25/100\n",
      "8192/8192 [==============================] - 1s 74us/step - loss: 0.7762 - accuracy: 0.6483 - val_loss: 1.6477 - val_accuracy: 0.2996\n",
      "Epoch 26/100\n",
      "8192/8192 [==============================] - 1s 72us/step - loss: 0.7749 - accuracy: 0.6444 - val_loss: 1.4722 - val_accuracy: 0.3321\n",
      "Epoch 27/100\n",
      "8192/8192 [==============================] - 1s 74us/step - loss: 0.7623 - accuracy: 0.6510 - val_loss: 1.5446 - val_accuracy: 0.3057\n",
      "Epoch 28/100\n",
      "8192/8192 [==============================] - 1s 72us/step - loss: 0.7541 - accuracy: 0.6537 - val_loss: 1.5537 - val_accuracy: 0.3199\n",
      "Epoch 29/100\n",
      "8192/8192 [==============================] - 1s 72us/step - loss: 0.7659 - accuracy: 0.6497 - val_loss: 1.6635 - val_accuracy: 0.3032\n",
      "Epoch 30/100\n",
      "8192/8192 [==============================] - 1s 74us/step - loss: 0.7464 - accuracy: 0.6609 - val_loss: 1.5324 - val_accuracy: 0.3114\n",
      "Epoch 31/100\n",
      "8192/8192 [==============================] - 1s 75us/step - loss: 0.7508 - accuracy: 0.6704 - val_loss: 1.4964 - val_accuracy: 0.3293\n",
      "Epoch 32/100\n",
      "8192/8192 [==============================] - 1s 72us/step - loss: 0.7603 - accuracy: 0.6545 - val_loss: 1.4765 - val_accuracy: 0.3512\n",
      "Epoch 33/100\n",
      "8192/8192 [==============================] - 1s 75us/step - loss: 0.7459 - accuracy: 0.6700 - val_loss: 1.6925 - val_accuracy: 0.3061\n",
      "Epoch 34/100\n",
      "8192/8192 [==============================] - 1s 75us/step - loss: 0.7387 - accuracy: 0.6631 - val_loss: 1.5079 - val_accuracy: 0.3398\n",
      "Epoch 35/100\n",
      "8192/8192 [==============================] - 1s 73us/step - loss: 0.7463 - accuracy: 0.6652 - val_loss: 1.7995 - val_accuracy: 0.2898\n",
      "Epoch 36/100\n",
      "8192/8192 [==============================] - 1s 75us/step - loss: 0.7364 - accuracy: 0.6661 - val_loss: 1.5421 - val_accuracy: 0.3333\n",
      "Epoch 37/100\n",
      "8192/8192 [==============================] - 1s 74us/step - loss: 0.7277 - accuracy: 0.6799 - val_loss: 1.6087 - val_accuracy: 0.3447\n",
      "Epoch 38/100\n",
      "8192/8192 [==============================] - 1s 75us/step - loss: 0.7235 - accuracy: 0.6707 - val_loss: 1.5945 - val_accuracy: 0.3240\n",
      "Epoch 39/100\n",
      "8192/8192 [==============================] - 1s 74us/step - loss: 0.7409 - accuracy: 0.6691 - val_loss: 1.6355 - val_accuracy: 0.3008\n",
      "Epoch 40/100\n",
      "8192/8192 [==============================] - 1s 73us/step - loss: 0.7349 - accuracy: 0.6710 - val_loss: 1.5684 - val_accuracy: 0.3183\n",
      "Epoch 41/100\n"
     ]
    },
    {
     "name": "stdout",
     "output_type": "stream",
     "text": [
      "8192/8192 [==============================] - 1s 74us/step - loss: 0.7270 - accuracy: 0.6721 - val_loss: 1.6373 - val_accuracy: 0.3032\n",
      "Epoch 42/100\n",
      "8192/8192 [==============================] - 1s 76us/step - loss: 0.7273 - accuracy: 0.6713 - val_loss: 1.5370 - val_accuracy: 0.3431\n",
      "Epoch 43/100\n",
      "8192/8192 [==============================] - 1s 74us/step - loss: 0.7267 - accuracy: 0.6737 - val_loss: 1.6258 - val_accuracy: 0.3150\n",
      "Epoch 44/100\n",
      "8192/8192 [==============================] - 1s 73us/step - loss: 0.7376 - accuracy: 0.6633 - val_loss: 1.6641 - val_accuracy: 0.3114\n",
      "Epoch 45/100\n",
      "8192/8192 [==============================] - 1s 73us/step - loss: 0.7297 - accuracy: 0.6696 - val_loss: 1.5715 - val_accuracy: 0.3146\n",
      "Epoch 46/100\n",
      "8192/8192 [==============================] - 1s 74us/step - loss: 0.7311 - accuracy: 0.6705 - val_loss: 1.5812 - val_accuracy: 0.3280\n",
      "Epoch 47/100\n",
      "8192/8192 [==============================] - 1s 74us/step - loss: 0.7290 - accuracy: 0.6685 - val_loss: 1.6082 - val_accuracy: 0.3329\n",
      "Epoch 48/100\n",
      "8192/8192 [==============================] - 1s 74us/step - loss: 0.7201 - accuracy: 0.6787 - val_loss: 1.6673 - val_accuracy: 0.3252\n",
      "Epoch 49/100\n",
      "8192/8192 [==============================] - 1s 76us/step - loss: 0.7222 - accuracy: 0.6757 - val_loss: 1.6104 - val_accuracy: 0.3236\n",
      "Epoch 50/100\n",
      "8192/8192 [==============================] - 1s 74us/step - loss: 0.7128 - accuracy: 0.6821 - val_loss: 1.4942 - val_accuracy: 0.3407\n",
      "Epoch 51/100\n",
      "8192/8192 [==============================] - 1s 76us/step - loss: 0.7248 - accuracy: 0.6733 - val_loss: 1.6072 - val_accuracy: 0.3219\n",
      "Epoch 52/100\n",
      "8192/8192 [==============================] - 1s 78us/step - loss: 0.7006 - accuracy: 0.6870 - val_loss: 1.6359 - val_accuracy: 0.3293\n",
      "Epoch 53/100\n",
      "8192/8192 [==============================] - 1s 76us/step - loss: 0.7181 - accuracy: 0.6737 - val_loss: 1.6079 - val_accuracy: 0.3223\n",
      "Epoch 54/100\n",
      "8192/8192 [==============================] - 1s 76us/step - loss: 0.7090 - accuracy: 0.6859 - val_loss: 1.6417 - val_accuracy: 0.3276\n",
      "Epoch 55/100\n",
      "8192/8192 [==============================] - 1s 80us/step - loss: 0.7079 - accuracy: 0.6857 - val_loss: 1.6242 - val_accuracy: 0.3146\n",
      "Epoch 56/100\n",
      "8192/8192 [==============================] - 1s 83us/step - loss: 0.7049 - accuracy: 0.6826 - val_loss: 1.5821 - val_accuracy: 0.3541\n",
      "Epoch 57/100\n",
      "8192/8192 [==============================] - 1s 85us/step - loss: 0.7225 - accuracy: 0.6776 - val_loss: 1.6469 - val_accuracy: 0.3329\n",
      "Epoch 58/100\n",
      "8192/8192 [==============================] - 1s 83us/step - loss: 0.7118 - accuracy: 0.6830 - val_loss: 1.6838 - val_accuracy: 0.3134\n",
      "Epoch 59/100\n",
      "8192/8192 [==============================] - 1s 82us/step - loss: 0.7154 - accuracy: 0.6869 - val_loss: 1.5220 - val_accuracy: 0.3447\n",
      "Epoch 60/100\n",
      "8192/8192 [==============================] - 1s 81us/step - loss: 0.7140 - accuracy: 0.6810 - val_loss: 1.7242 - val_accuracy: 0.3171\n",
      "Epoch 61/100\n",
      "8192/8192 [==============================] - 1s 80us/step - loss: 0.7137 - accuracy: 0.6792 - val_loss: 1.7260 - val_accuracy: 0.3032\n",
      "Epoch 62/100\n",
      "8192/8192 [==============================] - 1s 75us/step - loss: 0.6958 - accuracy: 0.6901 - val_loss: 1.5388 - val_accuracy: 0.3578\n",
      "Epoch 63/100\n",
      "8192/8192 [==============================] - 1s 74us/step - loss: 0.6899 - accuracy: 0.6879 - val_loss: 1.4454 - val_accuracy: 0.3516\n",
      "Epoch 64/100\n",
      "8192/8192 [==============================] - 1s 74us/step - loss: 0.6926 - accuracy: 0.6898 - val_loss: 1.6073 - val_accuracy: 0.3191\n",
      "Epoch 65/100\n",
      "8192/8192 [==============================] - 1s 75us/step - loss: 0.6955 - accuracy: 0.6902 - val_loss: 1.6290 - val_accuracy: 0.3268\n",
      "Epoch 66/100\n",
      "8192/8192 [==============================] - 1s 77us/step - loss: 0.7003 - accuracy: 0.6863 - val_loss: 1.6857 - val_accuracy: 0.3089\n",
      "Epoch 67/100\n",
      "8192/8192 [==============================] - 1s 77us/step - loss: 0.6955 - accuracy: 0.6920 - val_loss: 1.7459 - val_accuracy: 0.3008\n",
      "Epoch 68/100\n",
      "8192/8192 [==============================] - 1s 79us/step - loss: 0.6975 - accuracy: 0.6876 - val_loss: 1.5625 - val_accuracy: 0.3423\n",
      "Epoch 69/100\n",
      "8192/8192 [==============================] - 1s 78us/step - loss: 0.6984 - accuracy: 0.6931 - val_loss: 1.5630 - val_accuracy: 0.3280\n",
      "Epoch 70/100\n",
      "8192/8192 [==============================] - 1s 79us/step - loss: 0.6904 - accuracy: 0.6875 - val_loss: 1.6757 - val_accuracy: 0.3248\n",
      "Epoch 71/100\n",
      "8192/8192 [==============================] - 1s 80us/step - loss: 0.6871 - accuracy: 0.6929 - val_loss: 1.7779 - val_accuracy: 0.3248\n",
      "Epoch 72/100\n",
      "8192/8192 [==============================] - 1s 83us/step - loss: 0.6924 - accuracy: 0.6923 - val_loss: 1.5252 - val_accuracy: 0.3610\n",
      "Epoch 73/100\n",
      "8192/8192 [==============================] - 1s 82us/step - loss: 0.6852 - accuracy: 0.6904 - val_loss: 1.5924 - val_accuracy: 0.3419\n",
      "Epoch 74/100\n",
      "8192/8192 [==============================] - 1s 78us/step - loss: 0.7005 - accuracy: 0.6841 - val_loss: 1.6333 - val_accuracy: 0.3252\n",
      "Epoch 75/100\n",
      "8192/8192 [==============================] - 1s 74us/step - loss: 0.6862 - accuracy: 0.7035 - val_loss: 1.7642 - val_accuracy: 0.3260\n",
      "Epoch 76/100\n",
      "8192/8192 [==============================] - 1s 77us/step - loss: 0.6866 - accuracy: 0.6951 - val_loss: 1.7592 - val_accuracy: 0.3211\n",
      "Epoch 77/100\n",
      "8192/8192 [==============================] - 1s 74us/step - loss: 0.6851 - accuracy: 0.6947 - val_loss: 1.3789 - val_accuracy: 0.3716\n",
      "Epoch 78/100\n",
      "8192/8192 [==============================] - 1s 74us/step - loss: 0.6897 - accuracy: 0.6925 - val_loss: 1.5000 - val_accuracy: 0.3655\n",
      "Epoch 79/100\n",
      "8192/8192 [==============================] - 1s 75us/step - loss: 0.6799 - accuracy: 0.6967 - val_loss: 1.5047 - val_accuracy: 0.3464\n",
      "Epoch 80/100\n",
      "8192/8192 [==============================] - 1s 74us/step - loss: 0.6891 - accuracy: 0.6895 - val_loss: 1.5185 - val_accuracy: 0.3472\n",
      "Epoch 81/100\n",
      "8192/8192 [==============================] - 1s 77us/step - loss: 0.6810 - accuracy: 0.6921 - val_loss: 1.6592 - val_accuracy: 0.3228\n",
      "Epoch 82/100\n",
      "8192/8192 [==============================] - 1s 74us/step - loss: 0.6797 - accuracy: 0.6945 - val_loss: 1.6081 - val_accuracy: 0.3370\n",
      "Epoch 83/100\n",
      "8192/8192 [==============================] - 1s 77us/step - loss: 0.6940 - accuracy: 0.6930 - val_loss: 1.5897 - val_accuracy: 0.3423\n",
      "Epoch 84/100\n",
      "8192/8192 [==============================] - 1s 74us/step - loss: 0.6811 - accuracy: 0.6946 - val_loss: 1.6813 - val_accuracy: 0.3325\n",
      "Epoch 85/100\n",
      "8192/8192 [==============================] - 1s 76us/step - loss: 0.6790 - accuracy: 0.6987 - val_loss: 1.5827 - val_accuracy: 0.3386\n",
      "Epoch 86/100\n",
      "8192/8192 [==============================] - 1s 74us/step - loss: 0.6892 - accuracy: 0.6926 - val_loss: 1.6715 - val_accuracy: 0.3142\n",
      "Epoch 87/100\n",
      "8192/8192 [==============================] - 1s 75us/step - loss: 0.6776 - accuracy: 0.7002 - val_loss: 1.4842 - val_accuracy: 0.3508\n",
      "Epoch 88/100\n",
      "8192/8192 [==============================] - 1s 74us/step - loss: 0.6911 - accuracy: 0.6957 - val_loss: 1.4609 - val_accuracy: 0.3472\n",
      "Epoch 89/100\n",
      "8192/8192 [==============================] - 1s 74us/step - loss: 0.6843 - accuracy: 0.6995 - val_loss: 1.4157 - val_accuracy: 0.3753\n",
      "Epoch 90/100\n",
      "8192/8192 [==============================] - 1s 80us/step - loss: 0.6747 - accuracy: 0.7024 - val_loss: 1.8511 - val_accuracy: 0.3114\n",
      "Epoch 91/100\n",
      "8192/8192 [==============================] - 1s 75us/step - loss: 0.6821 - accuracy: 0.6985 - val_loss: 1.6078 - val_accuracy: 0.3358\n",
      "Epoch 92/100\n",
      "8192/8192 [==============================] - 1s 74us/step - loss: 0.6762 - accuracy: 0.6993 - val_loss: 1.3956 - val_accuracy: 0.3944\n",
      "Epoch 93/100\n",
      "8192/8192 [==============================] - 1s 74us/step - loss: 0.6741 - accuracy: 0.6987 - val_loss: 1.6375 - val_accuracy: 0.3341\n",
      "Epoch 94/100\n",
      "8192/8192 [==============================] - 1s 74us/step - loss: 0.6861 - accuracy: 0.7006 - val_loss: 1.4888 - val_accuracy: 0.3545\n",
      "Epoch 95/100\n",
      "8192/8192 [==============================] - 1s 73us/step - loss: 0.6761 - accuracy: 0.6953 - val_loss: 1.5586 - val_accuracy: 0.3565\n",
      "Epoch 96/100\n",
      "8192/8192 [==============================] - 1s 75us/step - loss: 0.6799 - accuracy: 0.7026 - val_loss: 1.6118 - val_accuracy: 0.3480\n"
     ]
    },
    {
     "name": "stdout",
     "output_type": "stream",
     "text": [
      "Epoch 97/100\n",
      "8192/8192 [==============================] - 1s 72us/step - loss: 0.6751 - accuracy: 0.7007 - val_loss: 1.5293 - val_accuracy: 0.3443\n",
      "Epoch 98/100\n",
      "8192/8192 [==============================] - 1s 73us/step - loss: 0.6806 - accuracy: 0.6978 - val_loss: 1.5084 - val_accuracy: 0.3451\n",
      "Epoch 99/100\n",
      "8192/8192 [==============================] - 1s 73us/step - loss: 0.6767 - accuracy: 0.7009 - val_loss: 1.7546 - val_accuracy: 0.3146\n",
      "Epoch 100/100\n",
      "8192/8192 [==============================] - 1s 71us/step - loss: 0.6803 - accuracy: 0.6917 - val_loss: 1.7208 - val_accuracy: 0.3386\n",
      "256/256 [==============================] - 0s 25us/step\n",
      "Test loss: 1.3745378702878952\n",
      "Test accuracy: 0.44140625\n",
      "[1.3745378702878952, 0.44140625]\n"
     ]
    }
   ],
   "source": [
    "from sklearn.metrics import classification_report\n",
    "\n",
    "model.summary()\n",
    "model.compile(optimizer = 'Adam', loss = 'categorical_crossentropy', metrics = ['accuracy'])\n",
    "summary = model.fit(X_train, \n",
    "                    y_train_onehot, \n",
    "                    batch_size = 25, \n",
    "                    epochs = 100,\n",
    "                    validation_data=(X_valid,y_valid_onehot), \n",
    "                    verbose=1)\n",
    "\n",
    "score = model.evaluate(X_test, y_test_onehot, verbose = 1)\n",
    "print('Test loss:', score[0])\n",
    "print('Test accuracy:', score[1])\n",
    "print(score)"
   ]
  },
  {
   "cell_type": "markdown",
   "metadata": {},
   "source": [
    "<a id='part25'></a>\n",
    "***\n",
    "### 5. Results"
   ]
  },
  {
   "cell_type": "code",
   "execution_count": 23,
   "metadata": {},
   "outputs": [
    {
     "name": "stdout",
     "output_type": "stream",
     "text": [
      "dict_keys(['val_loss', 'val_accuracy', 'loss', 'accuracy'])\n"
     ]
    },
    {
     "data": {
      "image/png": "[encoded data removed]",
      "text/plain": [
       "<Figure size 432x288 with 1 Axes>"
      ]
     },
     "metadata": {
      "needs_background": "light"
     },
     "output_type": "display_data"
    },
    {
     "data": {
      "image/png": "[encoded data removed]",
      "text/plain": [
       "<Figure size 432x288 with 1 Axes>"
      ]
     },
     "metadata": {
      "needs_background": "light"
     },
     "output_type": "display_data"
    }
   ],
   "source": [
    "print(summary.history.keys())\n",
    "# summarize history for accuracy\n",
    "plt.plot(summary.history['accuracy'])\n",
    "plt.plot(summary.history['val_accuracy'])\n",
    "plt.title('model accuracy')\n",
    "plt.ylabel('accuracy')\n",
    "plt.xlabel('epoch')\n",
    "plt.legend(['train', 'validation'], loc='lower right')\n",
    "plt.show()\n",
    "# summarize history for loss\n",
    "plt.plot(summary.history['loss'])\n",
    "plt.plot(summary.history['val_loss'])\n",
    "plt.title('model loss')\n",
    "plt.ylabel('loss')\n",
    "plt.xlabel('epoch')\n",
    "plt.legend(['train', 'validation'], loc='upper right')\n",
    "plt.show()"
   ]
  },
  {
   "cell_type": "markdown",
   "metadata": {},
   "source": [
    "<a id='part3'></a>\n",
    "***\n",
    "<h1><center>Deep Salience Approach</center></h1>\n",
    "\n",
    "Now that we have computed our baseline, which as you could see left room for great improvement, we can proceed in digging into the core of this experiment: __using a deep salience approach to estimate the number of singing sources__. \n",
    "\n",
    "Our experiment will heavily rely on the experiment conducted by Bittner, R et. al tackling the issue of multi-F0 estimation in polyphonic music, using Deep Neural Networks (see: *Deep Salience Representations for F0 Estimation in Polyphonic Music - https://bmcfee.github.io/papers/ismir2017_salience.pdf*).\n",
    "\n",
    "In fact, we will use the companion code presented in the above-mentioned paper in order to estimate the number of simultaneous singing sources: https://github.com/rabitt/ismir2017-deepsalience\n",
    "\n",
    "<a id='part31'></a>\n",
    "***\n",
    "### 1. Importing Required Python File - Defining Function Parameters"
   ]
  },
  {
   "cell_type": "code",
   "execution_count": 36,
   "metadata": {},
   "outputs": [],
   "source": [
    "# This file works as a standalone processor (no need for other file dependencies)\n",
    "import predict_on_audio as ds\n",
    "from collections import Counter\n",
    "import librosa\n",
    "import importlib\n",
    "\n",
    "ds = importlib.reload(ds)\n",
    "\n",
    "# Arg Dict passed to the DeepSalience main function\n",
    "args = {'audio':None,                # audio chunk np array\n",
    "        'task':'multif0',            # \"all, bass, melody1, melody2, melody3, multif0, pitch, vocal.\"\n",
    "        'save_dir':'./',             # no used\n",
    "        'use_neg':True, \n",
    "        'threshold':0.03,             # IMPORTANT\n",
    "        'output_format':'multif0',   # ['singlef0', 'multif0', 'salience']\n",
    "        'model':None}                # Hold the deep salience model\n",
    "\n",
    "# Pre-load the keras model into the args dict\n",
    "args['model'] = ds.load_model(args['task'])"
   ]
  },
  {
   "cell_type": "markdown",
   "metadata": {},
   "source": [
    "<a id='part32'></a>\n",
    "***\n",
    "### 2. Predicting Salience"
   ]
  },
  {
   "cell_type": "code",
   "execution_count": 37,
   "metadata": {
    "scrolled": true
   },
   "outputs": [
    {
     "data": {
      "application/vnd.jupyter.widget-view+json": {
       "model_id": "0d9e3fffb0cf42ee91191719569de031",
       "version_major": 2,
       "version_minor": 0
      },
      "text/plain": [
       "HBox(children=(IntProgress(value=0, max=256), HTML(value='')))"
      ]
     },
     "metadata": {},
     "output_type": "display_data"
    },
    {
     "name": "stdout",
     "output_type": "stream",
     "text": [
      "\n"
     ]
    }
   ],
   "source": [
    "# Various predicting methodologies for comparison purpose\n",
    "y_predict_mean   = np.zeros(np.shape(audio_data_test)[0])\n",
    "y_predict_max    = np.zeros(np.shape(audio_data_test)[0])\n",
    "y_predict_common = np.zeros(np.shape(audio_data_test)[0])\n",
    "\n",
    "\n",
    "for idx in notebook.tqdm(range(np.shape(audio_data_test)[0])):\n",
    "    \n",
    "    args['audio'] = audio_data_test[idx]\n",
    "    times, freqs  = ds.main(args)\n",
    "    # Counting the simultaneous number of singers from the multi_f0 output\n",
    "    multi_f0 = np.asarray([len(freqs[idx]) for idx in range(len(freqs)) if (len(freqs[idx])>0)])\n",
    "    \n",
    "    # If no f0 are found (silent file), fill with dummy value\n",
    "    if len(multi_f0)==0:\n",
    "        multi_f0=[0]\n",
    "    # Computing possible prediction variants (mean, max, most common) \n",
    "    y_predict_mean[idx] = np.around(np.mean(multi_f0))\n",
    "    y_predict_max[idx]  = int(np.max(multi_f0))\n",
    "    y_predict_common[idx]  = Counter(multi_f0).most_common(1)[0][0]"
   ]
  },
  {
   "cell_type": "markdown",
   "metadata": {},
   "source": [
    "<a id='part33'></a>\n",
    "***\n",
    "### 3. Results"
   ]
  },
  {
   "cell_type": "code",
   "execution_count": 43,
   "metadata": {},
   "outputs": [
    {
     "name": "stdout",
     "output_type": "stream",
     "text": [
      "              precision    recall  f1-score   support\n",
      "\n",
      "    1 Singer       0.74      0.85      0.79        61\n",
      "    2 Singer       0.58      0.41      0.48        63\n",
      "    3 Singer       0.30      0.23      0.26        56\n",
      "    4 Singer       0.62      0.80      0.70        76\n",
      "\n",
      "   micro avg       0.59      0.59      0.59       256\n",
      "   macro avg       0.56      0.57      0.56       256\n",
      "weighted avg       0.57      0.59      0.57       256\n",
      " samples avg       0.59      0.59      0.59       256\n",
      "\n"
     ]
    },
    {
     "data": {
      "image/png": "[encoded data removed]",
      "text/plain": [
       "<Figure size 432x288 with 2 Axes>"
      ]
     },
     "metadata": {
      "needs_background": "light"
     },
     "output_type": "display_data"
    },
    {
     "name": "stdout",
     "output_type": "stream",
     "text": [
      "              precision    recall  f1-score   support\n",
      "\n",
      "    1 Singer       0.71      0.20      0.31        61\n",
      "    2 Singer       0.22      0.13      0.16        63\n",
      "    3 Singer       0.00      0.00      0.00        56\n",
      "    4 Singer       0.43      0.97      0.60        76\n",
      "\n",
      "   micro avg       0.37      0.37      0.37       256\n",
      "   macro avg       0.34      0.32      0.27       256\n",
      "weighted avg       0.35      0.37      0.29       256\n",
      " samples avg       0.37      0.37      0.37       256\n",
      "\n"
     ]
    },
    {
     "data": {
      "image/png": "[encoded data removed]",
      "text/plain": [
       "<Figure size 432x288 with 2 Axes>"
      ]
     },
     "metadata": {
      "needs_background": "light"
     },
     "output_type": "display_data"
    },
    {
     "name": "stdout",
     "output_type": "stream",
     "text": [
      "              precision    recall  f1-score   support\n",
      "\n",
      "    1 Singer       0.64      0.90      0.75        61\n",
      "    2 Singer       0.68      0.44      0.54        63\n",
      "    3 Singer       0.44      0.34      0.38        56\n",
      "    4 Singer       0.66      0.75      0.70        76\n",
      "\n",
      "   micro avg       0.62      0.62      0.62       256\n",
      "   macro avg       0.61      0.61      0.59       256\n",
      "weighted avg       0.61      0.62      0.60       256\n",
      " samples avg       0.62      0.62      0.62       256\n",
      "\n"
     ]
    },
    {
     "data": {
      "image/png": "[encoded data removed]",
      "text/plain": [
       "<Figure size 432x288 with 2 Axes>"
      ]
     },
     "metadata": {
      "needs_background": "light"
     },
     "output_type": "display_data"
    }
   ],
   "source": [
    "from sklearn.metrics import classification_report\n",
    "from sklearn.metrics import ConfusionMatrixDisplay\n",
    "from sklearn.preprocessing import OneHotEncoder\n",
    "from sklearn.metrics import confusion_matrix\n",
    "\n",
    "predictions = [y_predict_mean,y_predict_max,y_predict_common]\n",
    "labels      = ['Mean','Max','Most Common']\n",
    "\n",
    "for (y_predict,title) in zip(predictions,labels):\n",
    "\n",
    "    # Make sure predictions are within bounds (1-4 singers)\n",
    "    y_predict[y_predict < 1] = 1\n",
    "    y_predict[y_predict > 4] = 4\n",
    "    \n",
    "    # Convert predictiosn to one-hot\n",
    "    onehot_encoder = OneHotEncoder(sparse=False)\n",
    "    y_predict_onehot = onehot_encoder.fit_transform(y_predict.reshape(len(y_predict), 1))\n",
    "    \n",
    "    # Print claissification report\n",
    "    target_names = ['1 Singer', '2 Singer', '3 Singer', '4 Singer']\n",
    "    print(classification_report(y_test_onehot, y_predict_onehot, target_names=target_names))\n",
    "    \n",
    "    # Finally print confusion matrix\n",
    "    cm   = confusion_matrix(y_test, y_predict)\n",
    "    disp = ConfusionMatrixDisplay(confusion_matrix=cm, display_labels=target_names)\n",
    "    disp.plot(include_values=True, cmap='viridis', xticks_rotation='horizontal', values_format=None, ax=None)\n",
    "    \n",
    "    plt.show()"
   ]
  },
  {
   "cell_type": "code",
   "execution_count": null,
   "metadata": {},
   "outputs": [],
   "source": []
  }
 ],
 "metadata": {
  "kernelspec": {
   "display_name": "Python 3",
   "language": "python",
   "name": "python3"
  },
  "language_info": {
   "codemirror_mode": {
    "name": "ipython",
    "version": 3
   },
   "file_extension": ".py",
   "mimetype": "text/x-python",
   "name": "python",
   "nbconvert_exporter": "python",
   "pygments_lexer": "ipython3",
   "version": "3.7.5"
  },
  "widgets": {
   "application/vnd.jupyter.widget-state+json": {
    "state": {
     "0237963b76fe4d6caa843a6881d1a55e": {
      "model_module": "@jupyter-widgets/controls",
      "model_module_version": "1.5.0",
      "model_name": "HBoxModel",
      "state": {
       "children": [
        "IPY_MODEL_03428afd2b9a4b79962cf2625342136b",
        "IPY_MODEL_f60c89d017c9464ea8800567225beeed"
       ],
       "layout": "IPY_MODEL_479f80edb8374b0caf749ed48a8a2949"
      }
     },
     "03428afd2b9a4b79962cf2625342136b": {
      "model_module": "@jupyter-widgets/controls",
      "model_module_version": "1.5.0",
      "model_name": "IntProgressModel",
      "state": {
       "bar_style": "success",
       "description": "100%",
       "layout": "IPY_MODEL_36cb019bd47e41cdb5950a805fa15af8",
       "max": 256,
       "style": "IPY_MODEL_081abe4c9ec7409eb477cdb2678e163c",
       "value": 256
      }
     },
     "04ca0994722943bab7a1f2e1de85a5df": {
      "model_module": "@jupyter-widgets/base",
      "model_module_version": "1.2.0",
      "model_name": "LayoutModel",
      "state": {}
     },
     "055196e80d5c4e798830e733b6b51e10": {
      "model_module": "@jupyter-widgets/base",
      "model_module_version": "1.2.0",
      "model_name": "LayoutModel",
      "state": {}
     },
     "05ba750d1c364611b1d68b0e475937d6": {
      "model_module": "@jupyter-widgets/controls",
      "model_module_version": "1.5.0",
      "model_name": "HTMLModel",
      "state": {
       "layout": "IPY_MODEL_da6930d9eb5b4ca7a7fbb88057848a5b",
       "style": "IPY_MODEL_d5f3911ca82b4c4990adb86fb3ffa6b5",
       "value": " 3/1024 [1:01:00&lt;346:05:30, 1220.30s/it]"
      }
     },
     "05dc4a7408e54bb18b70ba9f511582a7": {
      "model_module": "@jupyter-widgets/base",
      "model_module_version": "1.2.0",
      "model_name": "LayoutModel",
      "state": {}
     },
     "077c00a9d5514dc8b5882abbc07b81e1": {
      "model_module": "@jupyter-widgets/base",
      "model_module_version": "1.2.0",
      "model_name": "LayoutModel",
      "state": {}
     },
     "081abe4c9ec7409eb477cdb2678e163c": {
      "model_module": "@jupyter-widgets/controls",
      "model_module_version": "1.5.0",
      "model_name": "ProgressStyleModel",
      "state": {
       "description_width": "initial"
      }
     },
     "082ba8d8939f49d6a02005bbb15a3820": {
      "model_module": "@jupyter-widgets/controls",
      "model_module_version": "1.5.0",
      "model_name": "IntProgressModel",
      "state": {
       "bar_style": "success",
       "description": "100%",
       "layout": "IPY_MODEL_6088efad127d4cb98370a813c30164de",
       "max": 2457,
       "style": "IPY_MODEL_7d6c74613ab345ad994692cf9c5000de",
       "value": 2457
      }
     },
     "0949c2b618f647858e267d625ed57ec9": {
      "model_module": "@jupyter-widgets/controls",
      "model_module_version": "1.5.0",
      "model_name": "HBoxModel",
      "state": {
       "children": [
        "IPY_MODEL_74a627ebda9548a2a6b2cd4b7e16f8dc",
        "IPY_MODEL_f6e8d485b8c04d1c96dc3d3561acae90"
       ],
       "layout": "IPY_MODEL_2800008a417f47479bd00e37b904d8d5"
      }
     },
     "0a36af8b128d491b8a89c28184076638": {
      "model_module": "@jupyter-widgets/controls",
      "model_module_version": "1.5.0",
      "model_name": "ProgressStyleModel",
      "state": {
       "description_width": "initial"
      }
     },
     "0ac9ed3b20af46fe99fd41f658b27196": {
      "model_module": "@jupyter-widgets/base",
      "model_module_version": "1.2.0",
      "model_name": "LayoutModel",
      "state": {}
     },
     "0b94dfdeb8b840db92593df6990cc307": {
      "model_module": "@jupyter-widgets/controls",
      "model_module_version": "1.5.0",
      "model_name": "DescriptionStyleModel",
      "state": {
       "description_width": ""
      }
     },
     "0d9e3fffb0cf42ee91191719569de031": {
      "model_module": "@jupyter-widgets/controls",
      "model_module_version": "1.5.0",
      "model_name": "HBoxModel",
      "state": {
       "children": [
        "IPY_MODEL_9ee67437dce447299230790d279b325b",
        "IPY_MODEL_8c736bb66dac4e948207292cc765a528"
       ],
       "layout": "IPY_MODEL_4f1985f036a74f78bd5f2347fe998f17"
      }
     },
     "0e302e3ad5904393bdd1787c298d7227": {
      "model_module": "@jupyter-widgets/controls",
      "model_module_version": "1.5.0",
      "model_name": "ProgressStyleModel",
      "state": {
       "description_width": "initial"
      }
     },
     "0ed6e534323c4f5c925aa08898484c38": {
      "model_module": "@jupyter-widgets/controls",
      "model_module_version": "1.5.0",
      "model_name": "DescriptionStyleModel",
      "state": {
       "description_width": ""
      }
     },
     "0f68f7afa46a417884a66e37253b0720": {
      "model_module": "@jupyter-widgets/base",
      "model_module_version": "1.2.0",
      "model_name": "LayoutModel",
      "state": {}
     },
     "1021231b5f4a4c789a36c1f63b2a74cf": {
      "model_module": "@jupyter-widgets/base",
      "model_module_version": "1.2.0",
      "model_name": "LayoutModel",
      "state": {}
     },
     "1071001ccfc6486c97ea9ae7ed5f5f0c": {
      "model_module": "@jupyter-widgets/controls",
      "model_module_version": "1.5.0",
      "model_name": "ProgressStyleModel",
      "state": {
       "description_width": "initial"
      }
     },
     "10df71e219d649ddb64a6775d7dc611c": {
      "model_module": "@jupyter-widgets/controls",
      "model_module_version": "1.5.0",
      "model_name": "DescriptionStyleModel",
      "state": {
       "description_width": ""
      }
     },
     "11586fa2e7b0469192c0c09509a303f6": {
      "model_module": "@jupyter-widgets/controls",
      "model_module_version": "1.5.0",
      "model_name": "HTMLModel",
      "state": {
       "layout": "IPY_MODEL_419e902b9e9e426190f1d0ab538294aa",
       "style": "IPY_MODEL_2f45db8473104a7a9af7124ee48d98e5",
       "value": " 0/1024 [1:07:47&lt;?, ?it/s]"
      }
     },
     "1259a8f0bdcc43bf985355a7b44bda7b": {
      "model_module": "@jupyter-widgets/controls",
      "model_module_version": "1.5.0",
      "model_name": "DescriptionStyleModel",
      "state": {
       "description_width": ""
      }
     },
     "13bfb9af37a34e00ac649b6d1df5ed4e": {
      "model_module": "@jupyter-widgets/controls",
      "model_module_version": "1.5.0",
      "model_name": "HTMLModel",
      "state": {
       "layout": "IPY_MODEL_2030669cc2674dc3a2b1698d0d4ae5d2",
       "style": "IPY_MODEL_d49a66f241754c92b496e39ccdea117a",
       "value": " 2457/2457 [00:07&lt;00:00, 321.28it/s]"
      }
     },
     "15926db967304dd8890cc24e7a1b400b": {
      "model_module": "@jupyter-widgets/controls",
      "model_module_version": "1.5.0",
      "model_name": "DescriptionStyleModel",
      "state": {
       "description_width": ""
      }
     },
     "175785a123624713a0b2d7371a589174": {
      "model_module": "@jupyter-widgets/base",
      "model_module_version": "1.2.0",
      "model_name": "LayoutModel",
      "state": {}
     },
     "17e781f85fd54b96bfda11523efbdad3": {
      "model_module": "@jupyter-widgets/base",
      "model_module_version": "1.2.0",
      "model_name": "LayoutModel",
      "state": {}
     },
     "18fb0cdaa3cd4d83a3a3ac857c0e3c6f": {
      "model_module": "@jupyter-widgets/base",
      "model_module_version": "1.2.0",
      "model_name": "LayoutModel",
      "state": {}
     },
     "1a5239da228a4e8288808afa7f99bae1": {
      "model_module": "@jupyter-widgets/controls",
      "model_module_version": "1.5.0",
      "model_name": "IntProgressModel",
      "state": {
       "bar_style": "danger",
       "description": "  0%",
       "layout": "IPY_MODEL_5d553dd1a0144d35a7e969d08f6e73f4",
       "max": 1024,
       "style": "IPY_MODEL_99927a23ece04ac4bef94e8aed15b34a",
       "value": 5
      }
     },
     "1a998fc0d8cd40baa925895e5ff870ce": {
      "model_module": "@jupyter-widgets/controls",
      "model_module_version": "1.5.0",
      "model_name": "HTMLModel",
      "state": {
       "layout": "IPY_MODEL_563ab7d3acc94d0c8b0a333f4280552a",
       "style": "IPY_MODEL_2cfa57f8b53a49749c8f612e05f04bfd",
       "value": " 0/1024 [1:09:30&lt;?, ?it/s]"
      }
     },
     "1af826b1d0ae49eaa5f791648e0b2364": {
      "model_module": "@jupyter-widgets/controls",
      "model_module_version": "1.5.0",
      "model_name": "ProgressStyleModel",
      "state": {
       "description_width": "initial"
      }
     },
     "1b2738b781354a6895eb07d68b477fc6": {
      "model_module": "@jupyter-widgets/controls",
      "model_module_version": "1.5.0",
      "model_name": "DescriptionStyleModel",
      "state": {
       "description_width": ""
      }
     },
     "1c8ab578e15647708e72aa9459c785cf": {
      "model_module": "@jupyter-widgets/controls",
      "model_module_version": "1.5.0",
      "model_name": "IntProgressModel",
      "state": {
       "bar_style": "danger",
       "description": "  0%",
       "layout": "IPY_MODEL_1021231b5f4a4c789a36c1f63b2a74cf",
       "max": 1024,
       "style": "IPY_MODEL_d2babceb89f149e4b6b2b2e6994d7f0f",
       "value": 3
      }
     },
     "1ce763a4a5a747dcb5ede14590d3ed6f": {
      "model_module": "@jupyter-widgets/controls",
      "model_module_version": "1.5.0",
      "model_name": "HTMLModel",
      "state": {
       "layout": "IPY_MODEL_411fd13703bc40b193b3e196cd4d0259",
       "style": "IPY_MODEL_0b94dfdeb8b840db92593df6990cc307",
       "value": " 256/256 [1:22:36&lt;00:00, 19.36s/it]"
      }
     },
     "1d460cbd19124043a1f48f2abf9a84bb": {
      "model_module": "@jupyter-widgets/controls",
      "model_module_version": "1.5.0",
      "model_name": "HBoxModel",
      "state": {
       "children": [
        "IPY_MODEL_a7de9509f0c1498684ebdd7b84ee199b",
        "IPY_MODEL_cfed3121a6664e7c8fcd1c4e781c14aa"
       ],
       "layout": "IPY_MODEL_5544555380ff430fa54a0c83e1cf09b2"
      }
     },
     "1e336cfd54324fd2bf28196c56b4a0b3": {
      "model_module": "@jupyter-widgets/controls",
      "model_module_version": "1.5.0",
      "model_name": "DescriptionStyleModel",
      "state": {
       "description_width": ""
      }
     },
     "1e370a8e40cd413893f8a55c452ba9c1": {
      "model_module": "@jupyter-widgets/controls",
      "model_module_version": "1.5.0",
      "model_name": "DescriptionStyleModel",
      "state": {
       "description_width": ""
      }
     },
     "1f2b59b9c8924e18ad4a3a9d405aa19f": {
      "model_module": "@jupyter-widgets/controls",
      "model_module_version": "1.5.0",
      "model_name": "HBoxModel",
      "state": {
       "children": [
        "IPY_MODEL_082ba8d8939f49d6a02005bbb15a3820",
        "IPY_MODEL_bea054514f734532a99396db50b98813"
       ],
       "layout": "IPY_MODEL_87f434e78eed4402a0e8a946c8701180"
      }
     },
     "2030669cc2674dc3a2b1698d0d4ae5d2": {
      "model_module": "@jupyter-widgets/base",
      "model_module_version": "1.2.0",
      "model_name": "LayoutModel",
      "state": {}
     },
     "20db7332d5cf49589c4f6e9afdb3b350": {
      "model_module": "@jupyter-widgets/controls",
      "model_module_version": "1.5.0",
      "model_name": "HBoxModel",
      "state": {
       "children": [
        "IPY_MODEL_a5dc71e4f2884f3f9c67d7cae91f24e9",
        "IPY_MODEL_8fe3d657bd684edf8bd2f343644a6851"
       ],
       "layout": "IPY_MODEL_d2d62b3ffdfc43eca0731c784b7c7380"
      }
     },
     "212202347a164f748fced4ef246ec713": {
      "model_module": "@jupyter-widgets/controls",
      "model_module_version": "1.5.0",
      "model_name": "HTMLModel",
      "state": {
       "layout": "IPY_MODEL_91e40fdbb24a43738372f8f1ec05dd89",
       "style": "IPY_MODEL_f525d663be0c47b9a886d57b08e7ada5",
       "value": " 1/1024 [1:09:05&lt;1177:58:09, 4145.35s/it]"
      }
     },
     "2133a46c3de1481087ff9e709837951b": {
      "model_module": "@jupyter-widgets/controls",
      "model_module_version": "1.5.0",
      "model_name": "DescriptionStyleModel",
      "state": {
       "description_width": ""
      }
     },
     "229e9dc81244484d9cf05aa6e4eb07dd": {
      "model_module": "@jupyter-widgets/controls",
      "model_module_version": "1.5.0",
      "model_name": "HBoxModel",
      "state": {
       "children": [
        "IPY_MODEL_9f5f6bbca93d4df6979c5e2ebd6eb5b9",
        "IPY_MODEL_4640027cb6a0498ba60b1901e36ae215"
       ],
       "layout": "IPY_MODEL_9a8c93a5c1f94d5b9aa391b8673fb779"
      }
     },
     "2301d89ccf344c40a6f2fa9feb3b3d41": {
      "model_module": "@jupyter-widgets/controls",
      "model_module_version": "1.5.0",
      "model_name": "IntProgressModel",
      "state": {
       "bar_style": "success",
       "description": "100%",
       "layout": "IPY_MODEL_6df546b14f6a41aca6e53aa2ccacf49e",
       "max": 256,
       "style": "IPY_MODEL_83b292e540bb44d6ac44bf3a1b5a8fd4",
       "value": 256
      }
     },
     "2427d2ad48174de5924d78feeec90e33": {
      "model_module": "@jupyter-widgets/controls",
      "model_module_version": "1.5.0",
      "model_name": "DescriptionStyleModel",
      "state": {
       "description_width": ""
      }
     },
     "272a21c40f49488aadf5f7fdae409fdd": {
      "model_module": "@jupyter-widgets/controls",
      "model_module_version": "1.5.0",
      "model_name": "IntProgressModel",
      "state": {
       "bar_style": "danger",
       "description": "  0%",
       "layout": "IPY_MODEL_077c00a9d5514dc8b5882abbc07b81e1",
       "max": 1024,
       "style": "IPY_MODEL_7fa0b8d38ded433391b6c954e9a48c6f"
      }
     },
     "2800008a417f47479bd00e37b904d8d5": {
      "model_module": "@jupyter-widgets/base",
      "model_module_version": "1.2.0",
      "model_name": "LayoutModel",
      "state": {}
     },
     "2a3355f8ee304ccbbd5c0130c77185c6": {
      "model_module": "@jupyter-widgets/controls",
      "model_module_version": "1.5.0",
      "model_name": "ProgressStyleModel",
      "state": {
       "description_width": "initial"
      }
     },
     "2cfa57f8b53a49749c8f612e05f04bfd": {
      "model_module": "@jupyter-widgets/controls",
      "model_module_version": "1.5.0",
      "model_name": "DescriptionStyleModel",
      "state": {
       "description_width": ""
      }
     },
     "2d53f41ad53d479cb0bbe465c03a5ee4": {
      "model_module": "@jupyter-widgets/controls",
      "model_module_version": "1.5.0",
      "model_name": "IntProgressModel",
      "state": {
       "bar_style": "danger",
       "description": "  0%",
       "layout": "IPY_MODEL_b59b986e2cf24924b651e16c920498d5",
       "max": 1024,
       "style": "IPY_MODEL_1071001ccfc6486c97ea9ae7ed5f5f0c",
       "value": 1
      }
     },
     "2da1b0d0342c4627984e7a873e5d3467": {
      "model_module": "@jupyter-widgets/controls",
      "model_module_version": "1.5.0",
      "model_name": "HTMLModel",
      "state": {
       "layout": "IPY_MODEL_bee4666df32240a08e1f47f37f066dbd",
       "style": "IPY_MODEL_556054d7e4814dc89579ca6ac18f3156",
       "value": " 2457/2457 [00:07&lt;00:00, 312.47it/s]"
      }
     },
     "2e727e86ae694a978cebe05994a699d6": {
      "model_module": "@jupyter-widgets/base",
      "model_module_version": "1.2.0",
      "model_name": "LayoutModel",
      "state": {}
     },
     "2eaaf81fc3024ecaba29b97f014801a8": {
      "model_module": "@jupyter-widgets/controls",
      "model_module_version": "1.5.0",
      "model_name": "IntProgressModel",
      "state": {
       "bar_style": "danger",
       "description": "  0%",
       "layout": "IPY_MODEL_3df495f33baf4b84b801e9bc4cf4fd00",
       "max": 1024,
       "style": "IPY_MODEL_0e302e3ad5904393bdd1787c298d7227",
       "value": 5
      }
     },
     "2f45db8473104a7a9af7124ee48d98e5": {
      "model_module": "@jupyter-widgets/controls",
      "model_module_version": "1.5.0",
      "model_name": "DescriptionStyleModel",
      "state": {
       "description_width": ""
      }
     },
     "2ffcb0dbf71247639d35b675c0f1790a": {
      "model_module": "@jupyter-widgets/controls",
      "model_module_version": "1.5.0",
      "model_name": "ProgressStyleModel",
      "state": {
       "description_width": "initial"
      }
     },
     "30bdf861c2024592a3530d3de7af7c08": {
      "model_module": "@jupyter-widgets/base",
      "model_module_version": "1.2.0",
      "model_name": "LayoutModel",
      "state": {}
     },
     "330b151402944471abfc4a932136ab14": {
      "model_module": "@jupyter-widgets/controls",
      "model_module_version": "1.5.0",
      "model_name": "ProgressStyleModel",
      "state": {
       "description_width": "initial"
      }
     },
     "330e123374af43af86ebe17e20d02c02": {
      "model_module": "@jupyter-widgets/controls",
      "model_module_version": "1.5.0",
      "model_name": "HTMLModel",
      "state": {
       "layout": "IPY_MODEL_05dc4a7408e54bb18b70ba9f511582a7",
       "style": "IPY_MODEL_788099c900424519b31ddf12fc4c31c3",
       "value": " 5/1024 [59:41&lt;202:44:35, 716.27s/it]"
      }
     },
     "35654e85b88a42459f64776b2543966a": {
      "model_module": "@jupyter-widgets/controls",
      "model_module_version": "1.5.0",
      "model_name": "DescriptionStyleModel",
      "state": {
       "description_width": ""
      }
     },
     "36114ce8a4bc4d9393f2d7f9d717ab8a": {
      "model_module": "@jupyter-widgets/controls",
      "model_module_version": "1.5.0",
      "model_name": "DescriptionStyleModel",
      "state": {
       "description_width": ""
      }
     },
     "36cb019bd47e41cdb5950a805fa15af8": {
      "model_module": "@jupyter-widgets/base",
      "model_module_version": "1.2.0",
      "model_name": "LayoutModel",
      "state": {}
     },
     "3df495f33baf4b84b801e9bc4cf4fd00": {
      "model_module": "@jupyter-widgets/base",
      "model_module_version": "1.2.0",
      "model_name": "LayoutModel",
      "state": {}
     },
     "3f751f7d06ca4979b8292234f011129c": {
      "model_module": "@jupyter-widgets/controls",
      "model_module_version": "1.5.0",
      "model_name": "ProgressStyleModel",
      "state": {
       "description_width": "initial"
      }
     },
     "408b53ebd8484732845d991a9cb02acd": {
      "model_module": "@jupyter-widgets/controls",
      "model_module_version": "1.5.0",
      "model_name": "HBoxModel",
      "state": {
       "children": [
        "IPY_MODEL_1c8ab578e15647708e72aa9459c785cf",
        "IPY_MODEL_05ba750d1c364611b1d68b0e475937d6"
       ],
       "layout": "IPY_MODEL_cab16c2620e64ca49c13243a7d58cb82"
      }
     },
     "411fd13703bc40b193b3e196cd4d0259": {
      "model_module": "@jupyter-widgets/base",
      "model_module_version": "1.2.0",
      "model_name": "LayoutModel",
      "state": {}
     },
     "418ebbebfabe48a28d4ec06833a739ea": {
      "model_module": "@jupyter-widgets/controls",
      "model_module_version": "1.5.0",
      "model_name": "ProgressStyleModel",
      "state": {
       "description_width": "initial"
      }
     },
     "419e902b9e9e426190f1d0ab538294aa": {
      "model_module": "@jupyter-widgets/base",
      "model_module_version": "1.2.0",
      "model_name": "LayoutModel",
      "state": {}
     },
     "42465b9025884a38a234c8d6951531a9": {
      "model_module": "@jupyter-widgets/base",
      "model_module_version": "1.2.0",
      "model_name": "LayoutModel",
      "state": {}
     },
     "43dfaa3b13854c3cb4532d73cc10b7b5": {
      "model_module": "@jupyter-widgets/base",
      "model_module_version": "1.2.0",
      "model_name": "LayoutModel",
      "state": {}
     },
     "448d6bc0fd684f45b07d2cc02b7d3704": {
      "model_module": "@jupyter-widgets/controls",
      "model_module_version": "1.5.0",
      "model_name": "HTMLModel",
      "state": {
       "layout": "IPY_MODEL_7a08edd5f61b4342969022da6564482e",
       "style": "IPY_MODEL_a26109f2d1344089a14f012b0a3482c1",
       "value": " 0/1024 [00:01&lt;?, ?it/s]"
      }
     },
     "44e8fab3d38d468f813eacba230fa208": {
      "model_module": "@jupyter-widgets/controls",
      "model_module_version": "1.5.0",
      "model_name": "IntProgressModel",
      "state": {
       "bar_style": "success",
       "description": "100%",
       "layout": "IPY_MODEL_65ded5e4c114496184a6f15bd7bb18d5",
       "max": 2457,
       "style": "IPY_MODEL_2a3355f8ee304ccbbd5c0130c77185c6",
       "value": 2457
      }
     },
     "45319e7bc4384db4800ad35da3749ca7": {
      "model_module": "@jupyter-widgets/controls",
      "model_module_version": "1.5.0",
      "model_name": "HBoxModel",
      "state": {
       "children": [
        "IPY_MODEL_d63e51a53eac41baab524cba5b614bce",
        "IPY_MODEL_13bfb9af37a34e00ac649b6d1df5ed4e"
       ],
       "layout": "IPY_MODEL_175785a123624713a0b2d7371a589174"
      }
     },
     "45a2990138ed48c0a1b8f82f7aa5e6ed": {
      "model_module": "@jupyter-widgets/base",
      "model_module_version": "1.2.0",
      "model_name": "LayoutModel",
      "state": {}
     },
     "4640027cb6a0498ba60b1901e36ae215": {
      "model_module": "@jupyter-widgets/controls",
      "model_module_version": "1.5.0",
      "model_name": "HTMLModel",
      "state": {
       "layout": "IPY_MODEL_d583fab092fe47aab73506a82329168f",
       "style": "IPY_MODEL_1e336cfd54324fd2bf28196c56b4a0b3",
       "value": " 0/1024 [1:06:28&lt;?, ?it/s]"
      }
     },
     "479f80edb8374b0caf749ed48a8a2949": {
      "model_module": "@jupyter-widgets/base",
      "model_module_version": "1.2.0",
      "model_name": "LayoutModel",
      "state": {}
     },
     "49b8dcab8c4d43efb4d7341976b3519b": {
      "model_module": "@jupyter-widgets/base",
      "model_module_version": "1.2.0",
      "model_name": "LayoutModel",
      "state": {}
     },
     "4a558b6515654883933ca9c88efbe341": {
      "model_module": "@jupyter-widgets/controls",
      "model_module_version": "1.5.0",
      "model_name": "DescriptionStyleModel",
      "state": {
       "description_width": ""
      }
     },
     "4e2657dcc96a4298b8db0888e6c04f74": {
      "model_module": "@jupyter-widgets/controls",
      "model_module_version": "1.5.0",
      "model_name": "ProgressStyleModel",
      "state": {
       "description_width": "initial"
      }
     },
     "4f1985f036a74f78bd5f2347fe998f17": {
      "model_module": "@jupyter-widgets/base",
      "model_module_version": "1.2.0",
      "model_name": "LayoutModel",
      "state": {}
     },
     "5234316a097549c3aa8ec2760c36d3b3": {
      "model_module": "@jupyter-widgets/base",
      "model_module_version": "1.2.0",
      "model_name": "LayoutModel",
      "state": {}
     },
     "54ee464d3d294829ab91f08425a8cdec": {
      "model_module": "@jupyter-widgets/controls",
      "model_module_version": "1.5.0",
      "model_name": "DescriptionStyleModel",
      "state": {
       "description_width": ""
      }
     },
     "5544555380ff430fa54a0c83e1cf09b2": {
      "model_module": "@jupyter-widgets/base",
      "model_module_version": "1.2.0",
      "model_name": "LayoutModel",
      "state": {}
     },
     "556054d7e4814dc89579ca6ac18f3156": {
      "model_module": "@jupyter-widgets/controls",
      "model_module_version": "1.5.0",
      "model_name": "DescriptionStyleModel",
      "state": {
       "description_width": ""
      }
     },
     "563ab7d3acc94d0c8b0a333f4280552a": {
      "model_module": "@jupyter-widgets/base",
      "model_module_version": "1.2.0",
      "model_name": "LayoutModel",
      "state": {}
     },
     "56f6ba29903d49bb95a433bc23ceb41b": {
      "model_module": "@jupyter-widgets/controls",
      "model_module_version": "1.5.0",
      "model_name": "ProgressStyleModel",
      "state": {
       "description_width": "initial"
      }
     },
     "57b52fa9548847379ae918fbc5d2623b": {
      "model_module": "@jupyter-widgets/controls",
      "model_module_version": "1.5.0",
      "model_name": "HTMLModel",
      "state": {
       "layout": "IPY_MODEL_fe3fa0b3b4eb4c1c8cc10618a73f9e2d",
       "style": "IPY_MODEL_e4785e3be0024d54839e2e9d8b3858d9",
       "value": " 3/1024 [56:59&lt;323:17:44, 1139.93s/it]"
      }
     },
     "5811a5d0b67142a1be8ce7830468de71": {
      "model_module": "@jupyter-widgets/controls",
      "model_module_version": "1.5.0",
      "model_name": "IntProgressModel",
      "state": {
       "bar_style": "success",
       "description": "100%",
       "layout": "IPY_MODEL_8db02e54dd564b09967061cca4b738f0",
       "max": 256,
       "style": "IPY_MODEL_b87dc39c27184f659d75ea91f57f02f5",
       "value": 256
      }
     },
     "59ad5c41d4ca4039be27cfd92327ec98": {
      "model_module": "@jupyter-widgets/controls",
      "model_module_version": "1.5.0",
      "model_name": "HTMLModel",
      "state": {
       "layout": "IPY_MODEL_055196e80d5c4e798830e733b6b51e10",
       "style": "IPY_MODEL_6fffbbbb4d224115b687ebd1ba4d2d20",
       "value": " 1/256 [00:09&lt;24:04,  5.66s/it]"
      }
     },
     "5ae6959f629e4dd39991eac6218867f9": {
      "model_module": "@jupyter-widgets/controls",
      "model_module_version": "1.5.0",
      "model_name": "ProgressStyleModel",
      "state": {
       "description_width": "initial"
      }
     },
     "5b26355be341408cab2248b36d7e8abc": {
      "model_module": "@jupyter-widgets/base",
      "model_module_version": "1.2.0",
      "model_name": "LayoutModel",
      "state": {}
     },
     "5bfbd2b3327248f59b4f36f81b057966": {
      "model_module": "@jupyter-widgets/controls",
      "model_module_version": "1.5.0",
      "model_name": "DescriptionStyleModel",
      "state": {
       "description_width": ""
      }
     },
     "5d553dd1a0144d35a7e969d08f6e73f4": {
      "model_module": "@jupyter-widgets/base",
      "model_module_version": "1.2.0",
      "model_name": "LayoutModel",
      "state": {}
     },
     "6088efad127d4cb98370a813c30164de": {
      "model_module": "@jupyter-widgets/base",
      "model_module_version": "1.2.0",
      "model_name": "LayoutModel",
      "state": {}
     },
     "63af40fcdb1d419daf5ec6b9d68bfb82": {
      "model_module": "@jupyter-widgets/controls",
      "model_module_version": "1.5.0",
      "model_name": "HBoxModel",
      "state": {
       "children": [
        "IPY_MODEL_6b4abd3359bf48928b6111e2dbc27d01",
        "IPY_MODEL_448d6bc0fd684f45b07d2cc02b7d3704"
       ],
       "layout": "IPY_MODEL_04ca0994722943bab7a1f2e1de85a5df"
      }
     },
     "65c449dd349b4860a0c37c9bbce80c80": {
      "model_module": "@jupyter-widgets/controls",
      "model_module_version": "1.5.0",
      "model_name": "HBoxModel",
      "state": {
       "children": [
        "IPY_MODEL_ce57f64694b64f259be9aa7f8d3b8b19",
        "IPY_MODEL_6bf3ca41281049a39df5654f43f7890c"
       ],
       "layout": "IPY_MODEL_f67b616003cf49fd8879b84f8686eff7"
      }
     },
     "65ded5e4c114496184a6f15bd7bb18d5": {
      "model_module": "@jupyter-widgets/base",
      "model_module_version": "1.2.0",
      "model_name": "LayoutModel",
      "state": {}
     },
     "6a8e24826f124495b45abae31fcf50e1": {
      "model_module": "@jupyter-widgets/base",
      "model_module_version": "1.2.0",
      "model_name": "LayoutModel",
      "state": {}
     },
     "6ac429a0c971474a9120f3ee47bb5d92": {
      "model_module": "@jupyter-widgets/controls",
      "model_module_version": "1.5.0",
      "model_name": "HTMLModel",
      "state": {
       "layout": "IPY_MODEL_9a8290e036f24fd59a3c3c6ad6c0fa7c",
       "style": "IPY_MODEL_4a558b6515654883933ca9c88efbe341",
       "value": " 256/256 [00:00&lt;00:00, 399.98it/s]"
      }
     },
     "6b4abd3359bf48928b6111e2dbc27d01": {
      "model_module": "@jupyter-widgets/controls",
      "model_module_version": "1.5.0",
      "model_name": "IntProgressModel",
      "state": {
       "bar_style": "danger",
       "description": "  0%",
       "layout": "IPY_MODEL_955b7cb820c54bf5a613726eba54d186",
       "max": 1024,
       "style": "IPY_MODEL_4e2657dcc96a4298b8db0888e6c04f74"
      }
     },
     "6bf3ca41281049a39df5654f43f7890c": {
      "model_module": "@jupyter-widgets/controls",
      "model_module_version": "1.5.0",
      "model_name": "HTMLModel",
      "state": {
       "layout": "IPY_MODEL_dd0b7114bf0c41409b380af68a9ff973",
       "style": "IPY_MODEL_2427d2ad48174de5924d78feeec90e33",
       "value": " 0/1024 [1:12:25&lt;?, ?it/s]"
      }
     },
     "6df546b14f6a41aca6e53aa2ccacf49e": {
      "model_module": "@jupyter-widgets/base",
      "model_module_version": "1.2.0",
      "model_name": "LayoutModel",
      "state": {}
     },
     "6f7d1bffac6a4aa09d2f8bd18ae20ffa": {
      "model_module": "@jupyter-widgets/controls",
      "model_module_version": "1.5.0",
      "model_name": "DescriptionStyleModel",
      "state": {
       "description_width": ""
      }
     },
     "6fffbbbb4d224115b687ebd1ba4d2d20": {
      "model_module": "@jupyter-widgets/controls",
      "model_module_version": "1.5.0",
      "model_name": "DescriptionStyleModel",
      "state": {
       "description_width": ""
      }
     },
     "733dbbf5d89c479bb59be6baf45e9f4a": {
      "model_module": "@jupyter-widgets/base",
      "model_module_version": "1.2.0",
      "model_name": "LayoutModel",
      "state": {}
     },
     "7359ea670f414cd587febdd97879f3aa": {
      "model_module": "@jupyter-widgets/base",
      "model_module_version": "1.2.0",
      "model_name": "LayoutModel",
      "state": {}
     },
     "742865d2cc33414196a1807a12d1a243": {
      "model_module": "@jupyter-widgets/controls",
      "model_module_version": "1.5.0",
      "model_name": "HTMLModel",
      "state": {
       "layout": "IPY_MODEL_18fb0cdaa3cd4d83a3a3ac857c0e3c6f",
       "style": "IPY_MODEL_35654e85b88a42459f64776b2543966a",
       "value": " 46/256 [02:31&lt;19:09,  5.47s/it]"
      }
     },
     "74a627ebda9548a2a6b2cd4b7e16f8dc": {
      "model_module": "@jupyter-widgets/controls",
      "model_module_version": "1.5.0",
      "model_name": "IntProgressModel",
      "state": {
       "bar_style": "danger",
       "description": "  0%",
       "layout": "IPY_MODEL_9e653276f7684fcd8f5b037e8a8a3d4d",
       "max": 1024,
       "style": "IPY_MODEL_330b151402944471abfc4a932136ab14"
      }
     },
     "7564917f47cb421fa89aa9883f90cc80": {
      "model_module": "@jupyter-widgets/controls",
      "model_module_version": "1.5.0",
      "model_name": "HTMLModel",
      "state": {
       "layout": "IPY_MODEL_f48192e4c5ad442287a2a8904afe74a6",
       "style": "IPY_MODEL_d0e1dfad75e54a97b5ef2a6df0e167c8",
       "value": " 38/1024 [1:06:03&lt;28:34:14, 104.31s/it]"
      }
     },
     "7682b8130c3f4c5d939195537bc34acc": {
      "model_module": "@jupyter-widgets/base",
      "model_module_version": "1.2.0",
      "model_name": "LayoutModel",
      "state": {}
     },
     "76a1232555e54fbeb6d4c1b772d9c55a": {
      "model_module": "@jupyter-widgets/base",
      "model_module_version": "1.2.0",
      "model_name": "LayoutModel",
      "state": {}
     },
     "7720282fa9d443cabd2f8a81bc80bb0f": {
      "model_module": "@jupyter-widgets/controls",
      "model_module_version": "1.5.0",
      "model_name": "ProgressStyleModel",
      "state": {
       "description_width": "initial"
      }
     },
     "788099c900424519b31ddf12fc4c31c3": {
      "model_module": "@jupyter-widgets/controls",
      "model_module_version": "1.5.0",
      "model_name": "DescriptionStyleModel",
      "state": {
       "description_width": ""
      }
     },
     "78ca6a15d76042fdbe402b115b765ca2": {
      "model_module": "@jupyter-widgets/controls",
      "model_module_version": "1.5.0",
      "model_name": "HBoxModel",
      "state": {
       "children": [
        "IPY_MODEL_bfeb90c4baa64aa6b075bdfec943cfa2",
        "IPY_MODEL_1ce763a4a5a747dcb5ede14590d3ed6f"
       ],
       "layout": "IPY_MODEL_d03ee6f1a50d4884bf657267f7ab8a04"
      }
     },
     "797a7a9485554ab49164d2d55b43173e": {
      "model_module": "@jupyter-widgets/base",
      "model_module_version": "1.2.0",
      "model_name": "LayoutModel",
      "state": {}
     },
     "7a08edd5f61b4342969022da6564482e": {
      "model_module": "@jupyter-widgets/base",
      "model_module_version": "1.2.0",
      "model_name": "LayoutModel",
      "state": {}
     },
     "7a69955c913a48eb99f9f7c1c1a8b432": {
      "model_module": "@jupyter-widgets/controls",
      "model_module_version": "1.5.0",
      "model_name": "HBoxModel",
      "state": {
       "children": [
        "IPY_MODEL_f9a1b462b38c4abbbd74084838e11843",
        "IPY_MODEL_d414e00c7e3b4090abe9f0a424741500"
       ],
       "layout": "IPY_MODEL_76a1232555e54fbeb6d4c1b772d9c55a"
      }
     },
     "7ae675794ec14c88832753c6a85c9ed1": {
      "model_module": "@jupyter-widgets/controls",
      "model_module_version": "1.5.0",
      "model_name": "HTMLModel",
      "state": {
       "layout": "IPY_MODEL_aa8fc3274ba9495199e5d73770b3c65c",
       "style": "IPY_MODEL_2133a46c3de1481087ff9e709837951b",
       "value": " 5/1024 [1:06:50&lt;227:01:27, 802.05s/it]"
      }
     },
     "7d6c74613ab345ad994692cf9c5000de": {
      "model_module": "@jupyter-widgets/controls",
      "model_module_version": "1.5.0",
      "model_name": "ProgressStyleModel",
      "state": {
       "description_width": "initial"
      }
     },
     "7fa0b8d38ded433391b6c954e9a48c6f": {
      "model_module": "@jupyter-widgets/controls",
      "model_module_version": "1.5.0",
      "model_name": "ProgressStyleModel",
      "state": {
       "description_width": "initial"
      }
     },
     "80ba0b7021c24a9d93440bbf408fb6b0": {
      "model_module": "@jupyter-widgets/controls",
      "model_module_version": "1.5.0",
      "model_name": "IntProgressModel",
      "state": {
       "bar_style": "danger",
       "description": "  0%",
       "layout": "IPY_MODEL_83e4836b77ae468fa9f4e9e57d168550",
       "max": 256,
       "style": "IPY_MODEL_e488682e9de644e99450db6b9a93c62c",
       "value": 1
      }
     },
     "80f4f686ad114310a3f61aa865d6f0c5": {
      "model_module": "@jupyter-widgets/controls",
      "model_module_version": "1.5.0",
      "model_name": "IntProgressModel",
      "state": {
       "bar_style": "danger",
       "description": "  4%",
       "layout": "IPY_MODEL_49b8dcab8c4d43efb4d7341976b3519b",
       "max": 1024,
       "style": "IPY_MODEL_418ebbebfabe48a28d4ec06833a739ea",
       "value": 38
      }
     },
     "8240e5a38c4f482690bb47a6e4cf79c3": {
      "model_module": "@jupyter-widgets/controls",
      "model_module_version": "1.5.0",
      "model_name": "HBoxModel",
      "state": {
       "children": [
        "IPY_MODEL_272a21c40f49488aadf5f7fdae409fdd",
        "IPY_MODEL_d28ffcb2d76e46ddb5fb2b059dbc6b8b"
       ],
       "layout": "IPY_MODEL_e7f11c0063e04b3393ec7b0dcbc030c9"
      }
     },
     "82eaca0b47904940bd65d0f137f276e5": {
      "model_module": "@jupyter-widgets/base",
      "model_module_version": "1.2.0",
      "model_name": "LayoutModel",
      "state": {}
     },
     "8350f46a26d845088e09675297e6c5fa": {
      "model_module": "@jupyter-widgets/base",
      "model_module_version": "1.2.0",
      "model_name": "LayoutModel",
      "state": {}
     },
     "8388d9e8ac2941c2a7fe78c47a51638e": {
      "model_module": "@jupyter-widgets/controls",
      "model_module_version": "1.5.0",
      "model_name": "HBoxModel",
      "state": {
       "children": [
        "IPY_MODEL_f8913e4b273043b08c53a8a2fc17a94b",
        "IPY_MODEL_8710d741e6aa4405820787af95278a49"
       ],
       "layout": "IPY_MODEL_dcbcc96b950f450c8a9d6239e111eaa6"
      }
     },
     "83b292e540bb44d6ac44bf3a1b5a8fd4": {
      "model_module": "@jupyter-widgets/controls",
      "model_module_version": "1.5.0",
      "model_name": "ProgressStyleModel",
      "state": {
       "description_width": "initial"
      }
     },
     "83e4836b77ae468fa9f4e9e57d168550": {
      "model_module": "@jupyter-widgets/base",
      "model_module_version": "1.2.0",
      "model_name": "LayoutModel",
      "state": {}
     },
     "8573700e41cd46e99ede82f51d794e21": {
      "model_module": "@jupyter-widgets/controls",
      "model_module_version": "1.5.0",
      "model_name": "DescriptionStyleModel",
      "state": {
       "description_width": ""
      }
     },
     "861f69d390954d4590ca89ce1dd10a7b": {
      "model_module": "@jupyter-widgets/controls",
      "model_module_version": "1.5.0",
      "model_name": "IntProgressModel",
      "state": {
       "bar_style": "danger",
       "description": "  0%",
       "layout": "IPY_MODEL_f1728c8b553a45f7a15f37bbd547dd31",
       "max": 1024,
       "style": "IPY_MODEL_5ae6959f629e4dd39991eac6218867f9"
      }
     },
     "8710d741e6aa4405820787af95278a49": {
      "model_module": "@jupyter-widgets/controls",
      "model_module_version": "1.5.0",
      "model_name": "HTMLModel",
      "state": {
       "layout": "IPY_MODEL_f52cd2bc12a04e38beee0f1e1a92ccb0",
       "style": "IPY_MODEL_36114ce8a4bc4d9393f2d7f9d717ab8a",
       "value": " 8192/8192 [00:20&lt;00:00, 395.56it/s]"
      }
     },
     "87dcb281e0d24a949b7e2e2ef61944ac": {
      "model_module": "@jupyter-widgets/controls",
      "model_module_version": "1.5.0",
      "model_name": "HBoxModel",
      "state": {
       "children": [
        "IPY_MODEL_c3dff8fdb76a473ea2a60c0f204447bc",
        "IPY_MODEL_8f8ed616b14e4908a9dd019d4cdb41bc"
       ],
       "layout": "IPY_MODEL_45a2990138ed48c0a1b8f82f7aa5e6ed"
      }
     },
     "87f434e78eed4402a0e8a946c8701180": {
      "model_module": "@jupyter-widgets/base",
      "model_module_version": "1.2.0",
      "model_name": "LayoutModel",
      "state": {}
     },
     "8b96b00e8dce4544a79953d468c661b7": {
      "model_module": "@jupyter-widgets/controls",
      "model_module_version": "1.5.0",
      "model_name": "HTMLModel",
      "state": {
       "layout": "IPY_MODEL_c521dd81962e44c0abf8d4db1e12629f",
       "style": "IPY_MODEL_0ed6e534323c4f5c925aa08898484c38",
       "value": " 0/1024 [00:00&lt;?, ?it/s]"
      }
     },
     "8c736bb66dac4e948207292cc765a528": {
      "model_module": "@jupyter-widgets/controls",
      "model_module_version": "1.5.0",
      "model_name": "HTMLModel",
      "state": {
       "layout": "IPY_MODEL_e92170fd19614b8c886fabf1cd7ad999",
       "style": "IPY_MODEL_10df71e219d649ddb64a6775d7dc611c",
       "value": " 256/256 [01:45&lt;00:00,  2.44it/s]"
      }
     },
     "8db02e54dd564b09967061cca4b738f0": {
      "model_module": "@jupyter-widgets/base",
      "model_module_version": "1.2.0",
      "model_name": "LayoutModel",
      "state": {}
     },
     "8ef89fab032d498888067c352089fdea": {
      "model_module": "@jupyter-widgets/base",
      "model_module_version": "1.2.0",
      "model_name": "LayoutModel",
      "state": {}
     },
     "8f8ed616b14e4908a9dd019d4cdb41bc": {
      "model_module": "@jupyter-widgets/controls",
      "model_module_version": "1.5.0",
      "model_name": "HTMLModel",
      "state": {
       "layout": "IPY_MODEL_911c5ef542f146d5a5f6ef22639ebfdc",
       "style": "IPY_MODEL_1259a8f0bdcc43bf985355a7b44bda7b",
       "value": " 2/1024 [57:36&lt;490:37:45, 1728.24s/it]"
      }
     },
     "8fdfacb08a0f4c2190d4a83c002767d9": {
      "model_module": "@jupyter-widgets/base",
      "model_module_version": "1.2.0",
      "model_name": "LayoutModel",
      "state": {}
     },
     "8fe3d657bd684edf8bd2f343644a6851": {
      "model_module": "@jupyter-widgets/controls",
      "model_module_version": "1.5.0",
      "model_name": "HTMLModel",
      "state": {
       "layout": "IPY_MODEL_8fdfacb08a0f4c2190d4a83c002767d9",
       "style": "IPY_MODEL_15926db967304dd8890cc24e7a1b400b",
       "value": " 4/1024 [1:01:56&lt;263:13:51, 929.05s/it]"
      }
     },
     "90c218b1832743d3ab1b6dd0608d4b88": {
      "model_module": "@jupyter-widgets/controls",
      "model_module_version": "1.5.0",
      "model_name": "DescriptionStyleModel",
      "state": {
       "description_width": ""
      }
     },
     "911c5ef542f146d5a5f6ef22639ebfdc": {
      "model_module": "@jupyter-widgets/base",
      "model_module_version": "1.2.0",
      "model_name": "LayoutModel",
      "state": {}
     },
     "91e40fdbb24a43738372f8f1ec05dd89": {
      "model_module": "@jupyter-widgets/base",
      "model_module_version": "1.2.0",
      "model_name": "LayoutModel",
      "state": {}
     },
     "94e74bf14c934382b19384ba35ab1d68": {
      "model_module": "@jupyter-widgets/controls",
      "model_module_version": "1.5.0",
      "model_name": "IntProgressModel",
      "state": {
       "bar_style": "danger",
       "description": "  0%",
       "layout": "IPY_MODEL_dcddbcdfd1f74bd681c7385639f6eef4",
       "max": 1024,
       "style": "IPY_MODEL_7720282fa9d443cabd2f8a81bc80bb0f"
      }
     },
     "955b7cb820c54bf5a613726eba54d186": {
      "model_module": "@jupyter-widgets/base",
      "model_module_version": "1.2.0",
      "model_name": "LayoutModel",
      "state": {}
     },
     "96ac0f4a0b614e388c8252aa83440c0b": {
      "model_module": "@jupyter-widgets/controls",
      "model_module_version": "1.5.0",
      "model_name": "ProgressStyleModel",
      "state": {
       "description_width": "initial"
      }
     },
     "99927a23ece04ac4bef94e8aed15b34a": {
      "model_module": "@jupyter-widgets/controls",
      "model_module_version": "1.5.0",
      "model_name": "ProgressStyleModel",
      "state": {
       "description_width": "initial"
      }
     },
     "9a8290e036f24fd59a3c3c6ad6c0fa7c": {
      "model_module": "@jupyter-widgets/base",
      "model_module_version": "1.2.0",
      "model_name": "LayoutModel",
      "state": {}
     },
     "9a8c93a5c1f94d5b9aa391b8673fb779": {
      "model_module": "@jupyter-widgets/base",
      "model_module_version": "1.2.0",
      "model_name": "LayoutModel",
      "state": {}
     },
     "9c5b9244df6840569b67852a12f4f90b": {
      "model_module": "@jupyter-widgets/base",
      "model_module_version": "1.2.0",
      "model_name": "LayoutModel",
      "state": {}
     },
     "9d0ec09859d94f998bbcc38ce3ac0b06": {
      "model_module": "@jupyter-widgets/controls",
      "model_module_version": "1.5.0",
      "model_name": "ProgressStyleModel",
      "state": {
       "description_width": "initial"
      }
     },
     "9d4ce5c772fb41c1b6ce0cf0cbbf46fc": {
      "model_module": "@jupyter-widgets/base",
      "model_module_version": "1.2.0",
      "model_name": "LayoutModel",
      "state": {}
     },
     "9d8a27bfaafd48d7ad51125bc7cf4bbf": {
      "model_module": "@jupyter-widgets/controls",
      "model_module_version": "1.5.0",
      "model_name": "IntProgressModel",
      "state": {
       "bar_style": "success",
       "description": "100%",
       "layout": "IPY_MODEL_0f68f7afa46a417884a66e37253b0720",
       "max": 8192,
       "style": "IPY_MODEL_c1776b3e4ed54f0292e139e71746cb4d",
       "value": 8192
      }
     },
     "9e653276f7684fcd8f5b037e8a8a3d4d": {
      "model_module": "@jupyter-widgets/base",
      "model_module_version": "1.2.0",
      "model_name": "LayoutModel",
      "state": {}
     },
     "9ee67437dce447299230790d279b325b": {
      "model_module": "@jupyter-widgets/controls",
      "model_module_version": "1.5.0",
      "model_name": "IntProgressModel",
      "state": {
       "bar_style": "success",
       "description": "100%",
       "layout": "IPY_MODEL_5234316a097549c3aa8ec2760c36d3b3",
       "max": 256,
       "style": "IPY_MODEL_1af826b1d0ae49eaa5f791648e0b2364",
       "value": 256
      }
     },
     "9f5f6bbca93d4df6979c5e2ebd6eb5b9": {
      "model_module": "@jupyter-widgets/controls",
      "model_module_version": "1.5.0",
      "model_name": "IntProgressModel",
      "state": {
       "bar_style": "danger",
       "description": "  0%",
       "layout": "IPY_MODEL_cfdff34673be4ad0982a8d6b7c898ea2",
       "max": 1024,
       "style": "IPY_MODEL_0a36af8b128d491b8a89c28184076638"
      }
     },
     "9f63eed0d8a24ecfa48554999e3cbed6": {
      "model_module": "@jupyter-widgets/controls",
      "model_module_version": "1.5.0",
      "model_name": "HTMLModel",
      "state": {
       "layout": "IPY_MODEL_be7339b032f14c1ba51b04b4ea2f028b",
       "style": "IPY_MODEL_b2f9ff50a04a4145a775a10933788dec",
       "value": " 4/1024 [1:08:22&lt;290:35:49, 1025.64s/it]"
      }
     },
     "a0b61e701db04e65b5287bbcebdd0736": {
      "model_module": "@jupyter-widgets/base",
      "model_module_version": "1.2.0",
      "model_name": "LayoutModel",
      "state": {}
     },
     "a15319aab1d74d9f84459087c0346107": {
      "model_module": "@jupyter-widgets/controls",
      "model_module_version": "1.5.0",
      "model_name": "HTMLModel",
      "state": {
       "layout": "IPY_MODEL_adf5cceaaa334f09a84ebc8de5e2b4b0",
       "style": "IPY_MODEL_f9d53bac6d7b4fb2a2e9e7e014e4224a",
       "value": " 8192/8192 [00:27&lt;00:00, 295.30it/s]"
      }
     },
     "a26109f2d1344089a14f012b0a3482c1": {
      "model_module": "@jupyter-widgets/controls",
      "model_module_version": "1.5.0",
      "model_name": "DescriptionStyleModel",
      "state": {
       "description_width": ""
      }
     },
     "a476c91e8fdc48ad982d9fc943cb7e59": {
      "model_module": "@jupyter-widgets/controls",
      "model_module_version": "1.5.0",
      "model_name": "HBoxModel",
      "state": {
       "children": [
        "IPY_MODEL_2d53f41ad53d479cb0bbe465c03a5ee4",
        "IPY_MODEL_212202347a164f748fced4ef246ec713"
       ],
       "layout": "IPY_MODEL_eca5bf0146a64586820ad227e534c0d4"
      }
     },
     "a5dc71e4f2884f3f9c67d7cae91f24e9": {
      "model_module": "@jupyter-widgets/controls",
      "model_module_version": "1.5.0",
      "model_name": "IntProgressModel",
      "state": {
       "bar_style": "danger",
       "description": "  0%",
       "layout": "IPY_MODEL_6a8e24826f124495b45abae31fcf50e1",
       "max": 1024,
       "style": "IPY_MODEL_3f751f7d06ca4979b8292234f011129c",
       "value": 4
      }
     },
     "a6734002107a4eb7b707f0e91ed8b640": {
      "model_module": "@jupyter-widgets/controls",
      "model_module_version": "1.5.0",
      "model_name": "HBoxModel",
      "state": {
       "children": [
        "IPY_MODEL_80f4f686ad114310a3f61aa865d6f0c5",
        "IPY_MODEL_7564917f47cb421fa89aa9883f90cc80"
       ],
       "layout": "IPY_MODEL_f6dd3be186a24a809adc09073bbb4c2e"
      }
     },
     "a7de9509f0c1498684ebdd7b84ee199b": {
      "model_module": "@jupyter-widgets/controls",
      "model_module_version": "1.5.0",
      "model_name": "IntProgressModel",
      "state": {
       "bar_style": "success",
       "description": "100%",
       "layout": "IPY_MODEL_fcc2f000fc5548d8ac9b7f9a0e4d2e77",
       "max": 8192,
       "style": "IPY_MODEL_baa6149a6efd45139c4abf1e66711f02",
       "value": 8192
      }
     },
     "a8cdbbedd39443149f49e35ed4aef5ec": {
      "model_module": "@jupyter-widgets/base",
      "model_module_version": "1.2.0",
      "model_name": "LayoutModel",
      "state": {}
     },
     "a9c47017e1f24852bced49f18a05a54c": {
      "model_module": "@jupyter-widgets/controls",
      "model_module_version": "1.5.0",
      "model_name": "IntProgressModel",
      "state": {
       "bar_style": "danger",
       "description": "  0%",
       "layout": "IPY_MODEL_7359ea670f414cd587febdd97879f3aa",
       "max": 1024,
       "style": "IPY_MODEL_96ac0f4a0b614e388c8252aa83440c0b"
      }
     },
     "aa8fc3274ba9495199e5d73770b3c65c": {
      "model_module": "@jupyter-widgets/base",
      "model_module_version": "1.2.0",
      "model_name": "LayoutModel",
      "state": {}
     },
     "adf5cceaaa334f09a84ebc8de5e2b4b0": {
      "model_module": "@jupyter-widgets/base",
      "model_module_version": "1.2.0",
      "model_name": "LayoutModel",
      "state": {}
     },
     "aea96075d032405dbd2fe5bfd0490634": {
      "model_module": "@jupyter-widgets/controls",
      "model_module_version": "1.5.0",
      "model_name": "HBoxModel",
      "state": {
       "children": [
        "IPY_MODEL_f5f23e7bba0e421f8b52990ccce94a3b",
        "IPY_MODEL_9f63eed0d8a24ecfa48554999e3cbed6"
       ],
       "layout": "IPY_MODEL_8350f46a26d845088e09675297e6c5fa"
      }
     },
     "aed72ff825134c7a8a65140fca16ba08": {
      "model_module": "@jupyter-widgets/base",
      "model_module_version": "1.2.0",
      "model_name": "LayoutModel",
      "state": {}
     },
     "b08098a4e69d405580f32e113c5c71c0": {
      "model_module": "@jupyter-widgets/base",
      "model_module_version": "1.2.0",
      "model_name": "LayoutModel",
      "state": {}
     },
     "b2c135503a3349c4a6eacfe4f9a06e6c": {
      "model_module": "@jupyter-widgets/base",
      "model_module_version": "1.2.0",
      "model_name": "LayoutModel",
      "state": {}
     },
     "b2f9ff50a04a4145a775a10933788dec": {
      "model_module": "@jupyter-widgets/controls",
      "model_module_version": "1.5.0",
      "model_name": "DescriptionStyleModel",
      "state": {
       "description_width": ""
      }
     },
     "b59b986e2cf24924b651e16c920498d5": {
      "model_module": "@jupyter-widgets/base",
      "model_module_version": "1.2.0",
      "model_name": "LayoutModel",
      "state": {}
     },
     "b5a69ee732324f6fa8f0b9e65bc3e03b": {
      "model_module": "@jupyter-widgets/controls",
      "model_module_version": "1.5.0",
      "model_name": "HBoxModel",
      "state": {
       "children": [
        "IPY_MODEL_80ba0b7021c24a9d93440bbf408fb6b0",
        "IPY_MODEL_59ad5c41d4ca4039be27cfd92327ec98"
       ],
       "layout": "IPY_MODEL_733dbbf5d89c479bb59be6baf45e9f4a"
      }
     },
     "b6285e404af747649778fcec2e06fb9e": {
      "model_module": "@jupyter-widgets/controls",
      "model_module_version": "1.5.0",
      "model_name": "HBoxModel",
      "state": {
       "children": [
        "IPY_MODEL_cc7e2cdec2c245278d1ad5c27fb436f7",
        "IPY_MODEL_742865d2cc33414196a1807a12d1a243"
       ],
       "layout": "IPY_MODEL_0ac9ed3b20af46fe99fd41f658b27196"
      }
     },
     "b87dc39c27184f659d75ea91f57f02f5": {
      "model_module": "@jupyter-widgets/controls",
      "model_module_version": "1.5.0",
      "model_name": "ProgressStyleModel",
      "state": {
       "description_width": "initial"
      }
     },
     "baa6149a6efd45139c4abf1e66711f02": {
      "model_module": "@jupyter-widgets/controls",
      "model_module_version": "1.5.0",
      "model_name": "ProgressStyleModel",
      "state": {
       "description_width": "initial"
      }
     },
     "bc6068823c6b4e578abab4bc25ffb705": {
      "model_module": "@jupyter-widgets/controls",
      "model_module_version": "1.5.0",
      "model_name": "HBoxModel",
      "state": {
       "children": [
        "IPY_MODEL_1a5239da228a4e8288808afa7f99bae1",
        "IPY_MODEL_7ae675794ec14c88832753c6a85c9ed1"
       ],
       "layout": "IPY_MODEL_42465b9025884a38a234c8d6951531a9"
      }
     },
     "be7339b032f14c1ba51b04b4ea2f028b": {
      "model_module": "@jupyter-widgets/base",
      "model_module_version": "1.2.0",
      "model_name": "LayoutModel",
      "state": {}
     },
     "bea054514f734532a99396db50b98813": {
      "model_module": "@jupyter-widgets/controls",
      "model_module_version": "1.5.0",
      "model_name": "HTMLModel",
      "state": {
       "layout": "IPY_MODEL_2e727e86ae694a978cebe05994a699d6",
       "style": "IPY_MODEL_54ee464d3d294829ab91f08425a8cdec",
       "value": " 2457/2457 [00:08&lt;00:00, 305.74it/s]"
      }
     },
     "bee4666df32240a08e1f47f37f066dbd": {
      "model_module": "@jupyter-widgets/base",
      "model_module_version": "1.2.0",
      "model_name": "LayoutModel",
      "state": {}
     },
     "bfa1557acff34660bfb59fb06a957046": {
      "model_module": "@jupyter-widgets/base",
      "model_module_version": "1.2.0",
      "model_name": "LayoutModel",
      "state": {}
     },
     "bfeb90c4baa64aa6b075bdfec943cfa2": {
      "model_module": "@jupyter-widgets/controls",
      "model_module_version": "1.5.0",
      "model_name": "IntProgressModel",
      "state": {
       "bar_style": "success",
       "description": "100%",
       "layout": "IPY_MODEL_f94ff841473247bf986febf721b33f95",
       "max": 256,
       "style": "IPY_MODEL_ffb9d7091a8c4186b4b99796728eb1d8",
       "value": 256
      }
     },
     "c04ac1883ebc49bb9d102abef5b4dcc1": {
      "model_module": "@jupyter-widgets/controls",
      "model_module_version": "1.5.0",
      "model_name": "HBoxModel",
      "state": {
       "children": [
        "IPY_MODEL_a9c47017e1f24852bced49f18a05a54c",
        "IPY_MODEL_1a998fc0d8cd40baa925895e5ff870ce"
       ],
       "layout": "IPY_MODEL_9d4ce5c772fb41c1b6ce0cf0cbbf46fc"
      }
     },
     "c1776b3e4ed54f0292e139e71746cb4d": {
      "model_module": "@jupyter-widgets/controls",
      "model_module_version": "1.5.0",
      "model_name": "ProgressStyleModel",
      "state": {
       "description_width": "initial"
      }
     },
     "c182e667a4b04d3ca053b09e6a1204ad": {
      "model_module": "@jupyter-widgets/controls",
      "model_module_version": "1.5.0",
      "model_name": "HBoxModel",
      "state": {
       "children": [
        "IPY_MODEL_861f69d390954d4590ca89ce1dd10a7b",
        "IPY_MODEL_8b96b00e8dce4544a79953d468c661b7"
       ],
       "layout": "IPY_MODEL_aed72ff825134c7a8a65140fca16ba08"
      }
     },
     "c3dff8fdb76a473ea2a60c0f204447bc": {
      "model_module": "@jupyter-widgets/controls",
      "model_module_version": "1.5.0",
      "model_name": "IntProgressModel",
      "state": {
       "bar_style": "danger",
       "description": "  0%",
       "layout": "IPY_MODEL_17e781f85fd54b96bfda11523efbdad3",
       "max": 1024,
       "style": "IPY_MODEL_c9192a9e359042bfbabba5ecdb1f851c",
       "value": 2
      }
     },
     "c521dd81962e44c0abf8d4db1e12629f": {
      "model_module": "@jupyter-widgets/base",
      "model_module_version": "1.2.0",
      "model_name": "LayoutModel",
      "state": {}
     },
     "c9192a9e359042bfbabba5ecdb1f851c": {
      "model_module": "@jupyter-widgets/controls",
      "model_module_version": "1.5.0",
      "model_name": "ProgressStyleModel",
      "state": {
       "description_width": "initial"
      }
     },
     "cab16c2620e64ca49c13243a7d58cb82": {
      "model_module": "@jupyter-widgets/base",
      "model_module_version": "1.2.0",
      "model_name": "LayoutModel",
      "state": {}
     },
     "cc39d2fb69f046c3975b1f0238f4bc03": {
      "model_module": "@jupyter-widgets/base",
      "model_module_version": "1.2.0",
      "model_name": "LayoutModel",
      "state": {}
     },
     "cc7e2cdec2c245278d1ad5c27fb436f7": {
      "model_module": "@jupyter-widgets/controls",
      "model_module_version": "1.5.0",
      "model_name": "IntProgressModel",
      "state": {
       "bar_style": "danger",
       "description": " 18%",
       "layout": "IPY_MODEL_e85702bb8aa34af1a7b86319d2c35abd",
       "max": 256,
       "style": "IPY_MODEL_fb99b00a1dc947c6b5738a807c07bc08",
       "value": 46
      }
     },
     "ce57f64694b64f259be9aa7f8d3b8b19": {
      "model_module": "@jupyter-widgets/controls",
      "model_module_version": "1.5.0",
      "model_name": "IntProgressModel",
      "state": {
       "bar_style": "danger",
       "description": "  0%",
       "layout": "IPY_MODEL_cc39d2fb69f046c3975b1f0238f4bc03",
       "max": 1024,
       "style": "IPY_MODEL_9d0ec09859d94f998bbcc38ce3ac0b06"
      }
     },
     "cfdff34673be4ad0982a8d6b7c898ea2": {
      "model_module": "@jupyter-widgets/base",
      "model_module_version": "1.2.0",
      "model_name": "LayoutModel",
      "state": {}
     },
     "cfed3121a6664e7c8fcd1c4e781c14aa": {
      "model_module": "@jupyter-widgets/controls",
      "model_module_version": "1.5.0",
      "model_name": "HTMLModel",
      "state": {
       "layout": "IPY_MODEL_d161dbe52ba849eb996a54c91e59ca7c",
       "style": "IPY_MODEL_90c218b1832743d3ab1b6dd0608d4b88",
       "value": " 8192/8192 [00:29&lt;00:00, 279.60it/s]"
      }
     },
     "d03ee6f1a50d4884bf657267f7ab8a04": {
      "model_module": "@jupyter-widgets/base",
      "model_module_version": "1.2.0",
      "model_name": "LayoutModel",
      "state": {}
     },
     "d0e1dfad75e54a97b5ef2a6df0e167c8": {
      "model_module": "@jupyter-widgets/controls",
      "model_module_version": "1.5.0",
      "model_name": "DescriptionStyleModel",
      "state": {
       "description_width": ""
      }
     },
     "d161dbe52ba849eb996a54c91e59ca7c": {
      "model_module": "@jupyter-widgets/base",
      "model_module_version": "1.2.0",
      "model_name": "LayoutModel",
      "state": {}
     },
     "d28ffcb2d76e46ddb5fb2b059dbc6b8b": {
      "model_module": "@jupyter-widgets/controls",
      "model_module_version": "1.5.0",
      "model_name": "HTMLModel",
      "state": {
       "layout": "IPY_MODEL_82eaca0b47904940bd65d0f137f276e5",
       "style": "IPY_MODEL_8573700e41cd46e99ede82f51d794e21",
       "value": " 0/1024 [1:10:46&lt;?, ?it/s]"
      }
     },
     "d2babceb89f149e4b6b2b2e6994d7f0f": {
      "model_module": "@jupyter-widgets/controls",
      "model_module_version": "1.5.0",
      "model_name": "ProgressStyleModel",
      "state": {
       "description_width": "initial"
      }
     },
     "d2d62b3ffdfc43eca0731c784b7c7380": {
      "model_module": "@jupyter-widgets/base",
      "model_module_version": "1.2.0",
      "model_name": "LayoutModel",
      "state": {}
     },
     "d414e00c7e3b4090abe9f0a424741500": {
      "model_module": "@jupyter-widgets/controls",
      "model_module_version": "1.5.0",
      "model_name": "HTMLModel",
      "state": {
       "layout": "IPY_MODEL_9c5b9244df6840569b67852a12f4f90b",
       "style": "IPY_MODEL_5bfbd2b3327248f59b4f36f81b057966",
       "value": " 256/256 [05:32&lt;00:00,  1.30s/it]"
      }
     },
     "d49a66f241754c92b496e39ccdea117a": {
      "model_module": "@jupyter-widgets/controls",
      "model_module_version": "1.5.0",
      "model_name": "DescriptionStyleModel",
      "state": {
       "description_width": ""
      }
     },
     "d583fab092fe47aab73506a82329168f": {
      "model_module": "@jupyter-widgets/base",
      "model_module_version": "1.2.0",
      "model_name": "LayoutModel",
      "state": {}
     },
     "d5f3911ca82b4c4990adb86fb3ffa6b5": {
      "model_module": "@jupyter-widgets/controls",
      "model_module_version": "1.5.0",
      "model_name": "DescriptionStyleModel",
      "state": {
       "description_width": ""
      }
     },
     "d63e51a53eac41baab524cba5b614bce": {
      "model_module": "@jupyter-widgets/controls",
      "model_module_version": "1.5.0",
      "model_name": "IntProgressModel",
      "state": {
       "bar_style": "success",
       "description": "100%",
       "layout": "IPY_MODEL_fbdb5ded90694973a27485d43a8300ec",
       "max": 2457,
       "style": "IPY_MODEL_de5261837f324810936f4bde2f420d45",
       "value": 2457
      }
     },
     "d6f69448ac2546b0b7a804590f6e2f58": {
      "model_module": "@jupyter-widgets/base",
      "model_module_version": "1.2.0",
      "model_name": "LayoutModel",
      "state": {}
     },
     "d8d7e0213a9042dcb4acc73eff4e1d37": {
      "model_module": "@jupyter-widgets/base",
      "model_module_version": "1.2.0",
      "model_name": "LayoutModel",
      "state": {}
     },
     "da6930d9eb5b4ca7a7fbb88057848a5b": {
      "model_module": "@jupyter-widgets/base",
      "model_module_version": "1.2.0",
      "model_name": "LayoutModel",
      "state": {}
     },
     "db0736d7be1f46c2a59c1e2bf93499dc": {
      "model_module": "@jupyter-widgets/controls",
      "model_module_version": "1.5.0",
      "model_name": "HBoxModel",
      "state": {
       "children": [
        "IPY_MODEL_2301d89ccf344c40a6f2fa9feb3b3d41",
        "IPY_MODEL_6ac429a0c971474a9120f3ee47bb5d92"
       ],
       "layout": "IPY_MODEL_a8cdbbedd39443149f49e35ed4aef5ec"
      }
     },
     "dcbcc96b950f450c8a9d6239e111eaa6": {
      "model_module": "@jupyter-widgets/base",
      "model_module_version": "1.2.0",
      "model_name": "LayoutModel",
      "state": {}
     },
     "dcddbcdfd1f74bd681c7385639f6eef4": {
      "model_module": "@jupyter-widgets/base",
      "model_module_version": "1.2.0",
      "model_name": "LayoutModel",
      "state": {}
     },
     "dd0b7114bf0c41409b380af68a9ff973": {
      "model_module": "@jupyter-widgets/base",
      "model_module_version": "1.2.0",
      "model_name": "LayoutModel",
      "state": {}
     },
     "ddf0c68c10e04555a7521942cf830ad1": {
      "model_module": "@jupyter-widgets/controls",
      "model_module_version": "1.5.0",
      "model_name": "HTMLModel",
      "state": {
       "layout": "IPY_MODEL_a0b61e701db04e65b5287bbcebdd0736",
       "style": "IPY_MODEL_6f7d1bffac6a4aa09d2f8bd18ae20ffa",
       "value": " 256/256 [00:00&lt;00:00, 381.34it/s]"
      }
     },
     "de5261837f324810936f4bde2f420d45": {
      "model_module": "@jupyter-widgets/controls",
      "model_module_version": "1.5.0",
      "model_name": "ProgressStyleModel",
      "state": {
       "description_width": "initial"
      }
     },
     "e2df0c3d1e564dc3bb1e302947655a5b": {
      "model_module": "@jupyter-widgets/controls",
      "model_module_version": "1.5.0",
      "model_name": "ProgressStyleModel",
      "state": {
       "description_width": "initial"
      }
     },
     "e4785e3be0024d54839e2e9d8b3858d9": {
      "model_module": "@jupyter-widgets/controls",
      "model_module_version": "1.5.0",
      "model_name": "DescriptionStyleModel",
      "state": {
       "description_width": ""
      }
     },
     "e488682e9de644e99450db6b9a93c62c": {
      "model_module": "@jupyter-widgets/controls",
      "model_module_version": "1.5.0",
      "model_name": "ProgressStyleModel",
      "state": {
       "description_width": "initial"
      }
     },
     "e7f11c0063e04b3393ec7b0dcbc030c9": {
      "model_module": "@jupyter-widgets/base",
      "model_module_version": "1.2.0",
      "model_name": "LayoutModel",
      "state": {}
     },
     "e85702bb8aa34af1a7b86319d2c35abd": {
      "model_module": "@jupyter-widgets/base",
      "model_module_version": "1.2.0",
      "model_name": "LayoutModel",
      "state": {}
     },
     "e91ce4cc75654c2687c2213841528825": {
      "model_module": "@jupyter-widgets/controls",
      "model_module_version": "1.5.0",
      "model_name": "ProgressStyleModel",
      "state": {
       "description_width": "initial"
      }
     },
     "e92170fd19614b8c886fabf1cd7ad999": {
      "model_module": "@jupyter-widgets/base",
      "model_module_version": "1.2.0",
      "model_name": "LayoutModel",
      "state": {}
     },
     "eb7e20d00e0e4e8aaa70131817cc34f9": {
      "model_module": "@jupyter-widgets/base",
      "model_module_version": "1.2.0",
      "model_name": "LayoutModel",
      "state": {}
     },
     "eca5bf0146a64586820ad227e534c0d4": {
      "model_module": "@jupyter-widgets/base",
      "model_module_version": "1.2.0",
      "model_name": "LayoutModel",
      "state": {}
     },
     "ed25400d470f475088888ed5a2d91cf0": {
      "model_module": "@jupyter-widgets/controls",
      "model_module_version": "1.5.0",
      "model_name": "HBoxModel",
      "state": {
       "children": [
        "IPY_MODEL_2eaaf81fc3024ecaba29b97f014801a8",
        "IPY_MODEL_330e123374af43af86ebe17e20d02c02"
       ],
       "layout": "IPY_MODEL_7682b8130c3f4c5d939195537bc34acc"
      }
     },
     "edd45396fbc14982b86bdba6f3f03416": {
      "model_module": "@jupyter-widgets/controls",
      "model_module_version": "1.5.0",
      "model_name": "HBoxModel",
      "state": {
       "children": [
        "IPY_MODEL_44e8fab3d38d468f813eacba230fa208",
        "IPY_MODEL_2da1b0d0342c4627984e7a873e5d3467"
       ],
       "layout": "IPY_MODEL_bfa1557acff34660bfb59fb06a957046"
      }
     },
     "f1728c8b553a45f7a15f37bbd547dd31": {
      "model_module": "@jupyter-widgets/base",
      "model_module_version": "1.2.0",
      "model_name": "LayoutModel",
      "state": {}
     },
     "f2042b0caf6d4b4fbfd00ae3e3bc6969": {
      "model_module": "@jupyter-widgets/controls",
      "model_module_version": "1.5.0",
      "model_name": "HBoxModel",
      "state": {
       "children": [
        "IPY_MODEL_fd71ef07792643f78acbeaf799177174",
        "IPY_MODEL_57b52fa9548847379ae918fbc5d2623b"
       ],
       "layout": "IPY_MODEL_d8d7e0213a9042dcb4acc73eff4e1d37"
      }
     },
     "f48192e4c5ad442287a2a8904afe74a6": {
      "model_module": "@jupyter-widgets/base",
      "model_module_version": "1.2.0",
      "model_name": "LayoutModel",
      "state": {}
     },
     "f525d663be0c47b9a886d57b08e7ada5": {
      "model_module": "@jupyter-widgets/controls",
      "model_module_version": "1.5.0",
      "model_name": "DescriptionStyleModel",
      "state": {
       "description_width": ""
      }
     },
     "f52cd2bc12a04e38beee0f1e1a92ccb0": {
      "model_module": "@jupyter-widgets/base",
      "model_module_version": "1.2.0",
      "model_name": "LayoutModel",
      "state": {}
     },
     "f5f23e7bba0e421f8b52990ccce94a3b": {
      "model_module": "@jupyter-widgets/controls",
      "model_module_version": "1.5.0",
      "model_name": "IntProgressModel",
      "state": {
       "bar_style": "danger",
       "description": "  0%",
       "layout": "IPY_MODEL_b2c135503a3349c4a6eacfe4f9a06e6c",
       "max": 1024,
       "style": "IPY_MODEL_e2df0c3d1e564dc3bb1e302947655a5b",
       "value": 4
      }
     },
     "f60c89d017c9464ea8800567225beeed": {
      "model_module": "@jupyter-widgets/controls",
      "model_module_version": "1.5.0",
      "model_name": "HTMLModel",
      "state": {
       "layout": "IPY_MODEL_797a7a9485554ab49164d2d55b43173e",
       "style": "IPY_MODEL_1e370a8e40cd413893f8a55c452ba9c1",
       "value": " 256/256 [00:00&lt;00:00, 388.10it/s]"
      }
     },
     "f67b616003cf49fd8879b84f8686eff7": {
      "model_module": "@jupyter-widgets/base",
      "model_module_version": "1.2.0",
      "model_name": "LayoutModel",
      "state": {}
     },
     "f6a0760ec48b499baf3f543f4ef44f55": {
      "model_module": "@jupyter-widgets/controls",
      "model_module_version": "1.5.0",
      "model_name": "HBoxModel",
      "state": {
       "children": [
        "IPY_MODEL_94e74bf14c934382b19384ba35ab1d68",
        "IPY_MODEL_11586fa2e7b0469192c0c09509a303f6"
       ],
       "layout": "IPY_MODEL_43dfaa3b13854c3cb4532d73cc10b7b5"
      }
     },
     "f6dd3be186a24a809adc09073bbb4c2e": {
      "model_module": "@jupyter-widgets/base",
      "model_module_version": "1.2.0",
      "model_name": "LayoutModel",
      "state": {}
     },
     "f6e8d485b8c04d1c96dc3d3561acae90": {
      "model_module": "@jupyter-widgets/controls",
      "model_module_version": "1.5.0",
      "model_name": "HTMLModel",
      "state": {
       "layout": "IPY_MODEL_eb7e20d00e0e4e8aaa70131817cc34f9",
       "style": "IPY_MODEL_1b2738b781354a6895eb07d68b477fc6",
       "value": " 0/1024 [1:09:43&lt;?, ?it/s]"
      }
     },
     "f8913e4b273043b08c53a8a2fc17a94b": {
      "model_module": "@jupyter-widgets/controls",
      "model_module_version": "1.5.0",
      "model_name": "IntProgressModel",
      "state": {
       "bar_style": "success",
       "description": "100%",
       "layout": "IPY_MODEL_b08098a4e69d405580f32e113c5c71c0",
       "max": 8192,
       "style": "IPY_MODEL_56f6ba29903d49bb95a433bc23ceb41b",
       "value": 8192
      }
     },
     "f94ff841473247bf986febf721b33f95": {
      "model_module": "@jupyter-widgets/base",
      "model_module_version": "1.2.0",
      "model_name": "LayoutModel",
      "state": {}
     },
     "f9a1b462b38c4abbbd74084838e11843": {
      "model_module": "@jupyter-widgets/controls",
      "model_module_version": "1.5.0",
      "model_name": "IntProgressModel",
      "state": {
       "bar_style": "success",
       "description": "100%",
       "layout": "IPY_MODEL_30bdf861c2024592a3530d3de7af7c08",
       "max": 256,
       "style": "IPY_MODEL_2ffcb0dbf71247639d35b675c0f1790a",
       "value": 256
      }
     },
     "f9d53bac6d7b4fb2a2e9e7e014e4224a": {
      "model_module": "@jupyter-widgets/controls",
      "model_module_version": "1.5.0",
      "model_name": "DescriptionStyleModel",
      "state": {
       "description_width": ""
      }
     },
     "fb99b00a1dc947c6b5738a807c07bc08": {
      "model_module": "@jupyter-widgets/controls",
      "model_module_version": "1.5.0",
      "model_name": "ProgressStyleModel",
      "state": {
       "description_width": "initial"
      }
     },
     "fbdb5ded90694973a27485d43a8300ec": {
      "model_module": "@jupyter-widgets/base",
      "model_module_version": "1.2.0",
      "model_name": "LayoutModel",
      "state": {}
     },
     "fca9d857a4684981bb5e7803c79d1650": {
      "model_module": "@jupyter-widgets/controls",
      "model_module_version": "1.5.0",
      "model_name": "HBoxModel",
      "state": {
       "children": [
        "IPY_MODEL_5811a5d0b67142a1be8ce7830468de71",
        "IPY_MODEL_ddf0c68c10e04555a7521942cf830ad1"
       ],
       "layout": "IPY_MODEL_5b26355be341408cab2248b36d7e8abc"
      }
     },
     "fcc2f000fc5548d8ac9b7f9a0e4d2e77": {
      "model_module": "@jupyter-widgets/base",
      "model_module_version": "1.2.0",
      "model_name": "LayoutModel",
      "state": {}
     },
     "fd71ef07792643f78acbeaf799177174": {
      "model_module": "@jupyter-widgets/controls",
      "model_module_version": "1.5.0",
      "model_name": "IntProgressModel",
      "state": {
       "bar_style": "danger",
       "description": "  0%",
       "layout": "IPY_MODEL_d6f69448ac2546b0b7a804590f6e2f58",
       "max": 1024,
       "style": "IPY_MODEL_e91ce4cc75654c2687c2213841528825",
       "value": 3
      }
     },
     "fe3fa0b3b4eb4c1c8cc10618a73f9e2d": {
      "model_module": "@jupyter-widgets/base",
      "model_module_version": "1.2.0",
      "model_name": "LayoutModel",
      "state": {}
     },
     "fea7a8591a354c4e89a29518f4e94d07": {
      "model_module": "@jupyter-widgets/controls",
      "model_module_version": "1.5.0",
      "model_name": "HBoxModel",
      "state": {
       "children": [
        "IPY_MODEL_9d8a27bfaafd48d7ad51125bc7cf4bbf",
        "IPY_MODEL_a15319aab1d74d9f84459087c0346107"
       ],
       "layout": "IPY_MODEL_8ef89fab032d498888067c352089fdea"
      }
     },
     "ffb9d7091a8c4186b4b99796728eb1d8": {
      "model_module": "@jupyter-widgets/controls",
      "model_module_version": "1.5.0",
      "model_name": "ProgressStyleModel",
      "state": {
       "description_width": "initial"
      }
     }
    },
    "version_major": 2,
    "version_minor": 0
   }
  }
 },
 "nbformat": 4,
 "nbformat_minor": 2
}
